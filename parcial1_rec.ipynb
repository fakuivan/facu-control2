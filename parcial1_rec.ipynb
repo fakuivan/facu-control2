{
 "cells": [
  {
   "cell_type": "code",
   "execution_count": 2,
   "metadata": {},
   "outputs": [],
   "source": [
    "from sympy.abc import s, z\n",
    "import sympy as sp\n",
    "import numpy as np\n",
    "from control import matlab as m\n",
    "from utils.units import u\n",
    "from utils.units.sympy_helpers import without_units, split_unit_form as split_unit\n",
    "from pathlib import Path\n",
    "from IPython.display import display\n",
    "from utils.ctrl import sys_deu\n",
    "\n",
    "def usubs(var, val, expr):\n",
    "    return without_units(expr,\n",
    "        lambda dummify, expr: expr.subs(\n",
    "            var, dummify(val)))\n",
    "\n",
    "def var_in(var, unit, expr):\n",
    "    return usubs(var, var/unit, expr)\n",
    "\n",
    "out_dir = Path(\"./out\") / \"parcial1_rec\""
   ]
  },
  {
   "cell_type": "code",
   "execution_count": 3,
   "metadata": {},
   "outputs": [
    {
     "data": {
      "text/latex": [
       "$\\displaystyle \\frac{41.999384}{s \\left(0.2 s + 1\\right)}$"
      ],
      "text/plain": [
       "41.999384/(s*(0.2*s + 1))"
      ]
     },
     "metadata": {},
     "output_type": "display_data"
    },
    {
     "data": {
      "text/latex": [
       "$\\displaystyle \\frac{41.999384 \\text{rad}}{s \\left(1 + \\frac{0.2 s \\text{s}}{\\text{rad}}\\right) \\text{s}}$"
      ],
      "text/plain": [
       "41.999384*radian/(second*s*(1 + 0.2*second*s/radian))"
      ]
     },
     "execution_count": 3,
     "metadata": {},
     "output_type": "execute_result"
    }
   ],
   "source": [
    "gp = 157/(s*(.2*s+1))*14*0.019108\n",
    "display(gp)\n",
    "gp = var_in(s, u.rad/u.s, gp)\n",
    "gp"
   ]
  },
  {
   "cell_type": "code",
   "execution_count": 4,
   "metadata": {},
   "outputs": [
    {
     "data": {
      "text/latex": [
       "$\\displaystyle \\frac{0.28442 s + 1.891393}{s + 14.05}$"
      ],
      "text/plain": [
       "(0.28442*s + 1.891393)/(s + 14.05)"
      ]
     },
     "metadata": {},
     "output_type": "display_data"
    },
    {
     "data": {
      "text/latex": [
       "$\\displaystyle \\frac{1.891393 + \\frac{0.28442 s \\text{s}}{\\text{rad}}}{14.05 + \\frac{s \\text{s}}{\\text{rad}}}$"
      ],
      "text/plain": [
       "(1.891393 + 0.28442*second*s/radian)/(14.05 + second*s/radian)"
      ]
     },
     "execution_count": 4,
     "metadata": {},
     "output_type": "execute_result"
    }
   ],
   "source": [
    "gc = .28442*(s+6.65)/(s+14.05)\n",
    "display(gc)\n",
    "gc = var_in(s, u.rad/u.s, gc)\n",
    "gc"
   ]
  },
  {
   "cell_type": "code",
   "execution_count": 5,
   "metadata": {},
   "outputs": [
    {
     "data": {
      "text/latex": [
       "$\\displaystyle \\frac{\\left(K_{l} T a_{l} + 2 K_{l}\\right) \\frac{z + \\frac{T a_{l} - 2}{T a_{l} + 2}}{z + \\frac{T b_{l} - 2}{T b_{l} + 2}}}{T b_{l} + 2}$"
      ],
      "text/plain": [
       "(K_l*T*a_l + 2*K_l)*((z + (T*a_l - 2)/(T*a_l + 2))/(z + (T*b_l - 2)/(T*b_l + 2)))/(T*b_l + 2)"
      ]
     },
     "execution_count": 5,
     "metadata": {},
     "output_type": "execute_result"
    }
   ],
   "source": [
    "from utils.ratpolys import ratpoly_zpk_form\n",
    "\n",
    "kl, al, bl, dt = sp.symbols(\"K_l a_l b_l T\")\n",
    "s_bi = 2/dt*(z-1)/(z+1)\n",
    "gc_lead = kl*(s+al)/(s+bl)\n",
    "\n",
    "gc_lead.subs(\n",
    "    s, s_bi\n",
    ") |> ratpoly_zpk_form$(?, z)"
   ]
  },
  {
   "cell_type": "code",
   "execution_count": 6,
   "metadata": {},
   "outputs": [
    {
     "data": {
      "text/plain": [
       "NumericalBasis(mapper=QuantityMapper(salt=7193693603967046159), proxy_system=<UnitSystem: (meter, kilogram, second, ampere, mole, candela, kelvin)>)"
      ]
     },
     "execution_count": 6,
     "metadata": {},
     "output_type": "execute_result"
    }
   ],
   "source": [
    "from utils.units import basis\n",
    "nu = basis()\n",
    "nu"
   ]
  },
  {
   "cell_type": "code",
   "execution_count": 7,
   "metadata": {},
   "outputs": [],
   "source": [
    "from utils.ctrl import expr2sys\n",
    "my_sys_deu = sys_deu$(?, nu, 1, 1)\n",
    "\n",
    "def my_expr2sys(expr, var, tf=None):\n",
    "    return expr2sys(nu.to_numeric(expr, as_expr=True), var, tf)\n",
    "\n",
    "gp_tf = my_expr2sys(gp, s)\n",
    "gc_tf = my_expr2sys(gc, s)\n",
    "gcl_tf = m.feedback(gc_tf*gp_tf)"
   ]
  },
  {
   "cell_type": "code",
   "execution_count": 8,
   "metadata": {},
   "outputs": [
    {
     "data": {
      "text/latex": [
       "$\\displaystyle 0.0287782962900297 \\text{s}$"
      ],
      "text/plain": [
       "0.0287782962900297*second"
      ]
     },
     "execution_count": 8,
     "metadata": {},
     "output_type": "execute_result"
    }
   ],
   "source": [
    "from utils.ctrl import nu_stepinfo\n",
    "ct_stepinfo = nu_stepinfo(nu, u.s, 1, m.stepinfo(gcl_tf))\n",
    "\n",
    "nr = 10\n",
    "dt_ = ct_stepinfo[\"RiseTime\"]/nr\n",
    "dt_"
   ]
  },
  {
   "cell_type": "code",
   "execution_count": 9,
   "metadata": {},
   "outputs": [
    {
     "data": {
      "text/latex": [
       "$\\displaystyle \\frac{1.891393 + \\frac{19.7662847816699 \\left(z - 1\\right)}{\\left(z + 1\\right) \\text{rad}}}{14.05 + \\frac{69.4968173182964 \\left(z - 1\\right)}{\\left(z + 1\\right) \\text{rad}}}$"
      ],
      "text/plain": [
       "(1.891393 + 19.7662847816699*(z - 1)/(radian*(z + 1)))/(14.05 + 69.4968173182964*(z - 1)/(radian*(z + 1)))"
      ]
     },
     "execution_count": 9,
     "metadata": {},
     "output_type": "execute_result"
    }
   ],
   "source": [
    "gc_d = usubs(dt, dt_, usubs(s, s_bi, gc))\n",
    "gc_d"
   ]
  },
  {
   "cell_type": "code",
   "execution_count": 10,
   "metadata": {},
   "outputs": [
    {
     "data": {
      "text/latex": [
       "$$\\frac{0.2592 z - 0.214}{z - 0.6637}$$"
      ],
      "text/plain": [
       "TransferFunction(array([ 0.25922804, -0.2139506 ]), array([ 1.        , -0.66366163]), True)"
      ]
     },
     "execution_count": 10,
     "metadata": {},
     "output_type": "execute_result"
    }
   ],
   "source": [
    "gc_dtf = my_expr2sys(gc_d, z).minreal()\n",
    "gc_dtf"
   ]
  },
  {
   "cell_type": "code",
   "execution_count": 11,
   "metadata": {},
   "outputs": [
    {
     "data": {
      "text/latex": [
       "$$\\frac{0.08293 z + 0.07905}{z^2 - 1.866 z + 0.866}\\quad dt = 0.02877829629002968$$"
      ],
      "text/plain": [
       "TransferFunction(array([0.08293366, 0.07905031]), array([ 1.        , -1.86598172,  0.86598172]), 0.02877829629002968)"
      ]
     },
     "execution_count": 11,
     "metadata": {},
     "output_type": "execute_result"
    }
   ],
   "source": [
    "gp_dtf = m.c2d(gp_tf, nu[dt_])\n",
    "gp_dtf |> my_sys_deu"
   ]
  },
  {
   "cell_type": "code",
   "execution_count": 12,
   "metadata": {},
   "outputs": [
    {
     "data": {
      "text/latex": [
       "$$\\frac{0.0215 z^2 + 0.002748 z - 0.01691}{z^3 - 2.508 z^2 + 2.107 z - 0.5916}\\quad dt = 0.02877829629002968$$"
      ],
      "text/plain": [
       "TransferFunction(array([ 0.02149873,  0.00274835, -0.01691286]), array([ 1.        , -2.50814462,  2.10711055, -0.5916317 ]), 0.02877829629002968)"
      ]
     },
     "execution_count": 12,
     "metadata": {},
     "output_type": "execute_result"
    }
   ],
   "source": [
    "gcl_dtf = m.feedback(gc_dtf*gp_dtf, 1)\n",
    "gcl_dtf |> my_sys_deu"
   ]
  },
  {
   "cell_type": "code",
   "execution_count": 13,
   "metadata": {},
   "outputs": [
    {
     "data": {
      "image/png": "[encoded data removed]",
      "text/plain": [
       "<Figure size 432x288 with 2 Axes>"
      ]
     },
     "metadata": {
      "needs_background": "light"
     },
     "output_type": "display_data"
    }
   ],
   "source": [
    "from utils.ctrlsys import step, zoh_stairs\n",
    "from utils.mpl import io_axes, nu_twinx_axes\n",
    "from utils.ctrl import step_resp\n",
    "\n",
    "fig, (ax_e, ax_r), next_color, set_gain_and_legend_loc = io_axes()\n",
    "plot_step, plot_ref = step_resp(ax_e.plot, ax_r.plot, next_color)\n",
    "\n",
    "set_time_title, set_e_title, set_r_title = nu_twinx_axes(\n",
    "    nu, ax_e, ax_r, u.s, 1, 1\n",
    ")\n",
    "\n",
    "plot_step(gcl_tf, label=\"Respuesta LC en tiempo continuo\")\n",
    "plot_step(gcl_dtf, label=\"Respuesta LC discretizada\")\n",
    "plot_ref(label=\"Referencia\")\n",
    "\n",
    "set_time_title(\"Tiempo\")\n",
    "set_e_title(\"Excitación\")\n",
    "set_r_title(\"Respuesta\")\n",
    "ax_e.grid()\n",
    "set_gain_and_legend_loc(gcl_tf.dcgain(), \"lower right\")\n",
    "\n",
    "fig.savefig(out_dir / \"1p3_resp.svg\")"
   ]
  },
  {
   "cell_type": "code",
   "execution_count": 14,
   "metadata": {},
   "outputs": [
    {
     "data": {
      "text/latex": [
       "$$\\frac{2 z}{z + 1}$$"
      ],
      "text/plain": [
       "TransferFunction(array([2, 0]), array([1, 1]), True)"
      ]
     },
     "execution_count": 14,
     "metadata": {},
     "output_type": "execute_result"
    }
   ],
   "source": [
    "gzohinv = 2*z/(z+1)\n",
    "gzohinv_dtf = my_expr2sys(gzohinv, z)\n",
    "gzohinv_dtf"
   ]
  },
  {
   "cell_type": "code",
   "execution_count": 15,
   "metadata": {},
   "outputs": [
    {
     "data": {
      "text/latex": [
       "$$\\frac{0.5185 z^2 - 0.4279 z}{z^2 + 0.3363 z - 0.6637}$$"
      ],
      "text/plain": [
       "TransferFunction(array([ 0.51845608, -0.4279012 ,  0.        ]), array([ 1.        ,  0.33633837, -0.66366163]), True)"
      ]
     },
     "execution_count": 15,
     "metadata": {},
     "output_type": "execute_result"
    }
   ],
   "source": [
    "gcc_dtf = gc_dtf * gzohinv_dtf\n",
    "gcc_dtf"
   ]
  },
  {
   "cell_type": "code",
   "execution_count": 16,
   "metadata": {},
   "outputs": [],
   "source": [
    "gclc_dtf = m.feedback(gp_dtf * gcc_dtf)"
   ]
  },
  {
   "cell_type": "code",
   "execution_count": 17,
   "metadata": {},
   "outputs": [
    {
     "data": {
      "image/png": "[encoded data removed]",
      "text/plain": [
       "<Figure size 432x288 with 2 Axes>"
      ]
     },
     "metadata": {
      "needs_background": "light"
     },
     "output_type": "display_data"
    }
   ],
   "source": [
    "from utils.ctrlsys import step, zoh_stairs\n",
    "from utils.mpl import io_axes, nu_twinx_axes\n",
    "from utils.ctrl import step_resp\n",
    "\n",
    "fig, (ax_e, ax_r), next_color, set_gain_and_legend_loc = io_axes()\n",
    "plot_step, plot_ref = step_resp(ax_e.plot, ax_r.plot, next_color)\n",
    "\n",
    "set_time_title, set_e_title, set_r_title = nu_twinx_axes(\n",
    "    nu, ax_e, ax_r, u.s, 1, 1\n",
    ")\n",
    "\n",
    "plot_step(gcl_tf, label=\"Respuesta LC en tiempo continuo\")\n",
    "plot_step(gclc_dtf, label=\"Respuesta LC con compensación ZOH\")\n",
    "plot_ref(label=\"Referencia\")\n",
    "\n",
    "set_time_title(\"Tiempo\")\n",
    "set_e_title(\"Excitación\")\n",
    "set_r_title(\"Respuesta\")\n",
    "ax_e.grid()\n",
    "set_gain_and_legend_loc(gcl_tf.dcgain(), \"lower right\")\n",
    "\n",
    "fig.savefig(out_dir / \"1p4_resp_zoh.svg\")"
   ]
  },
  {
   "cell_type": "code",
   "execution_count": 18,
   "metadata": {},
   "outputs": [
    {
     "data": {
      "text/latex": [
       "$\\displaystyle u{\\left(k \\right)} = 0.5185 e{\\left(k \\right)} - 0.4279 e{\\left(k - 1 \\right)} + 0.6637 u{\\left(k - 2 \\right)} - 0.3363 u{\\left(k - 1 \\right)}$"
      ],
      "text/plain": [
       "Eq(u(k), 0.5185*e(k) - 0.4279*e(k - 1) + 0.6637*u(k - 2) - 0.3363*u(k - 1))"
      ]
     },
     "execution_count": 18,
     "metadata": {},
     "output_type": "execute_result"
    }
   ],
   "source": [
    "from utils.ctrlsys import difference_eq\n",
    "from utils.ctrl import siso_numden\n",
    "\n",
    "difference_eq$(\n",
    "    *siso_numden(gcc_dtf))$(\n",
    "    *map(sp.Function, [\"e\", \"u\"]))(\n",
    "    sp.Symbol(\"k\")).n(4)"
   ]
  },
  {
   "cell_type": "code",
   "execution_count": 19,
   "metadata": {},
   "outputs": [],
   "source": [
    "ts = 1*u.s\n",
    "mp = 7*u.percent"
   ]
  },
  {
   "cell_type": "code",
   "execution_count": 20,
   "metadata": {},
   "outputs": [
    {
     "data": {
      "text/latex": [
       "$\\displaystyle \\left(-3.912 + 4.622 i\\right) \\text{Hz}$"
      ],
      "text/plain": [
       "hertz*(-3.912 + 4.622*I)"
      ]
     },
     "execution_count": 20,
     "metadata": {},
     "output_type": "execute_result"
    }
   ],
   "source": [
    "from utils.ctrlsys import pole_specs\n",
    "\n",
    "_, dp_s = pole_specs(nu[ts], nu[mp])\n",
    "nu.to_symb(u.Hz, dp_s).n(4)"
   ]
  },
  {
   "cell_type": "code",
   "execution_count": 21,
   "metadata": {},
   "outputs": [
    {
     "data": {
      "text/latex": [
       "$\\displaystyle 0.8856 + 0.1185 i$"
      ],
      "text/plain": [
       "0.8856 + 0.1185*I"
      ]
     },
     "execution_count": 21,
     "metadata": {},
     "output_type": "execute_result"
    }
   ],
   "source": [
    "from utils.ctrlsys import z_map\n",
    "dp = z_map(dp_s, nu[dt_])\n",
    "sp.sympify(dp).n(4)"
   ]
  },
  {
   "cell_type": "code",
   "execution_count": 22,
   "metadata": {},
   "outputs": [],
   "source": [
    "gdelay_dtf = 1/m.tf(\"z\")\n",
    "\n",
    "gls = {\n",
    "    \"atraso del muestreador\": gdelay_dtf,\n",
    "    \"planta\": gp_dtf\n",
    "}"
   ]
  },
  {
   "cell_type": "code",
   "execution_count": 23,
   "metadata": {},
   "outputs": [
    {
     "data": {
      "text/latex": [
       "$\\displaystyle \\frac{K \\left(- Z_{l} + z\\right)}{- P_{l} + z}$"
      ],
      "text/plain": [
       "K*(-Z_l + z)/(-P_l + z)"
      ]
     },
     "execution_count": 23,
     "metadata": {},
     "output_type": "execute_result"
    }
   ],
   "source": [
    "# Try removing `real=True` and see what a\n",
    "# friendly error message you get with `sp.nsolve`\n",
    "k, pl, zl = sp.symbols(\"K P_l Z_l\", real=True)\n",
    "\n",
    "gc_dc = k*(z-zl)/(z-pl)\n",
    "gc_dc"
   ]
  },
  {
   "cell_type": "code",
   "execution_count": 24,
   "metadata": {},
   "outputs": [
    {
     "data": {
      "text/plain": [
       "0.8659817180406106"
      ]
     },
     "execution_count": 24,
     "metadata": {},
     "output_type": "execute_result"
    }
   ],
   "source": [
    "zl_ = min(gp_dtf.pole())\n",
    "gc_dc_ = gc_dc.subs(zl, zl_)\n",
    "zl_"
   ]
  },
  {
   "cell_type": "code",
   "execution_count": 25,
   "metadata": {},
   "outputs": [
    {
     "data": {
      "text/latex": [
       "$\\displaystyle \\frac{0.0829336593441887 z + 0.0790503135693692}{1.0 z^{2} - 1.86598171804061 z + 0.86598171804061}$"
      ],
      "text/plain": [
       "(0.0829336593441887*z + 0.0790503135693692)/(1.0*z**2 - 1.86598171804061*z + 0.86598171804061)"
      ]
     },
     "execution_count": 25,
     "metadata": {},
     "output_type": "execute_result"
    }
   ],
   "source": [
    "from utils.ratpolys import numden2ratpoly\n",
    "\n",
    "def rlocus_cond(dp, z, ratpoly):\n",
    "    return ratpoly.subs(z, dp)+1\n",
    "\n",
    "gp_d = numden2ratpoly$(*siso_numden(gp_dtf))(z)\n",
    "gp_d"
   ]
  },
  {
   "cell_type": "code",
   "execution_count": 26,
   "metadata": {},
   "outputs": [
    {
     "data": {
      "text/plain": [
       "(0.1702433228738177, 0.7544105069559)"
      ]
     },
     "execution_count": 26,
     "metadata": {},
     "output_type": "execute_result"
    }
   ],
   "source": [
    "from utils.math import sp_reim\n",
    "from utils.misc import valmap\n",
    "from more_itertools import one\n",
    "\n",
    "k_, pl_ = sp.nsolve(\n",
    "    sp_reim(rlocus_cond(dp, z, gp_d*gc_dc_/z)),\n",
    "    (k, pl), (1, .5)\n",
    ") |> map$(float)\n",
    "k_, pl_"
   ]
  },
  {
   "cell_type": "code",
   "execution_count": 27,
   "metadata": {},
   "outputs": [
    {
     "data": {
      "text/plain": [
       "(0.19602593445073657, 0.7316288503343901)"
      ]
     },
     "execution_count": 27,
     "metadata": {},
     "output_type": "execute_result"
    }
   ],
   "source": [
    "from utils.ctrlsys import autotune\n",
    "\n",
    "k_, pl_ = autotune({k: k_, pl: pl_},\n",
    "    z, m.tf(\"z\"),\n",
    "    gc_dc_,\n",
    "    nu[mp]*.95, nu[ts]*.95,\n",
    "    reduce((*), gls.values()),\n",
    "    1, iter=100)\n",
    "k_, pl_"
   ]
  },
  {
   "cell_type": "code",
   "execution_count": 28,
   "metadata": {},
   "outputs": [
    {
     "data": {
      "text/latex": [
       "$$\\frac{0.196 z - 0.1698}{z - 0.7316}$$"
      ],
      "text/plain": [
       "TransferFunction(array([ 0.19602593, -0.16975488]), array([ 1.        , -0.73162885]), True)"
      ]
     },
     "execution_count": 28,
     "metadata": {},
     "output_type": "execute_result"
    }
   ],
   "source": [
    "gc_dctf = my_expr2sys(gc_dc_.subs({k: k_, pl: pl_}), z)\n",
    "gc_dctf"
   ]
  },
  {
   "cell_type": "code",
   "execution_count": 29,
   "metadata": {},
   "outputs": [
    {
     "data": {
      "text/latex": [
       "$$\\frac{0.01626 z^2 + 0.001418 z - 0.01342}{z^4 - 2.598 z^3 + 2.247 z^2 - 0.6322 z - 0.01342}\\quad dt = 0.002169455779068741$$"
      ],
      "text/plain": [
       "TransferFunction(array([ 0.01625715,  0.00141752, -0.01341918]), array([ 1.        , -2.59761057,  2.24744493, -0.63215969, -0.01341918]), 0.002169455779068741)"
      ]
     },
     "execution_count": 29,
     "metadata": {},
     "output_type": "execute_result"
    }
   ],
   "source": [
    "gcl_dctf = m.feedback(reduce((*), gls.values())*gc_dctf)\n",
    "gcl_dctf"
   ]
  },
  {
   "cell_type": "code",
   "execution_count": 30,
   "metadata": {},
   "outputs": [
    {
     "data": {
      "image/png": "[encoded data removed]",
      "text/plain": [
       "<Figure size 432x288 with 2 Axes>"
      ]
     },
     "metadata": {
      "needs_background": "light"
     },
     "output_type": "display_data"
    }
   ],
   "source": [
    "from utils.ctrlsys import step, zoh_stairs\n",
    "from utils.mpl import io_axes, nu_twinx_axes\n",
    "from utils.ctrl import step_resp\n",
    "\n",
    "fig, (ax_e, ax_r), next_color, set_gain_and_legend_loc = io_axes()\n",
    "plot_step, plot_ref = step_resp(ax_e.plot, ax_r.plot, next_color)\n",
    "\n",
    "set_time_title, set_e_title, set_r_title = nu_twinx_axes(\n",
    "    nu, ax_e, ax_r, u.s, 1, 1\n",
    ")\n",
    "\n",
    "plot_step(gcl_tf, label=\"Respuesta LC en tiempo continuo\")\n",
    "plot_step(gcl_dctf, label=\"Respuesta LC con diseño en especio discreto\")\n",
    "plot_ref(label=\"Referencia\")\n",
    "\n",
    "set_time_title(\"Tiempo\")\n",
    "set_e_title(\"Excitación\")\n",
    "set_r_title(\"Respuesta\")\n",
    "ax_e.grid()\n",
    "set_gain_and_legend_loc(gcl_tf.dcgain(), \"lower right\")\n",
    "\n",
    "fig.savefig(out_dir / \"2p2_resp_zdes.svg\")"
   ]
  },
  {
   "cell_type": "code",
   "execution_count": 31,
   "metadata": {},
   "outputs": [
    {
     "data": {
      "text/plain": [
       "{'RiseTime': 0.316561259190327*second,\n",
       " 'SettlingTime': 0.978462073861009*second,\n",
       " 'SettlingMin': 0.931792637979566,\n",
       " 'SettlingMax': 1.06649999999993,\n",
       " 'Overshoot': 6.64999999997738*percent,\n",
       " 'Undershoot': 0,\n",
       " 'Peak': 1.06649999999993,\n",
       " 'PeakTime': 0.661900814670683*second,\n",
       " 'SteadyStateValue': 1.00000000000015}"
      ]
     },
     "execution_count": 31,
     "metadata": {},
     "output_type": "execute_result"
    }
   ],
   "source": [
    "nu_stepinfo(nu, u.s, 1, m.stepinfo(gcl_dctf))"
   ]
  }
 ],
 "metadata": {
  "kernelspec": {
   "display_name": "Coconut (Python 3.9)",
   "language": "coconut",
   "name": "coconut"
  },
  "language_info": {
   "codemirror_mode": {
    "name": "python",
    "version": 3
   },
   "file_extension": ".coco",
   "mimetype": "text/x-python3",
   "name": "coconut",
   "pygments_lexer": "coconut",
   "version": "1.5.0"
  },
  "orig_nbformat": 4
 },
 "nbformat": 4,
 "nbformat_minor": 2
}
