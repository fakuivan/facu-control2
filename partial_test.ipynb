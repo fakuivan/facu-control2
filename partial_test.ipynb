{
 "cells": [
  {
   "cell_type": "code",
   "execution_count": 1,
   "metadata": {},
   "outputs": [],
   "source": [
    "import utils.functional as f\n",
    "\n",
    "a = f.ArgList(tuple(f.process_args([f.S, (1, 2), f.S, (3,)])))\n",
    "a\n",
    "\n",
    "fp = f.fpartial"
   ]
  },
  {
   "cell_type": "code",
   "execution_count": 4,
   "metadata": {},
   "outputs": [
    {
     "data": {
      "text/plain": [
       "Functional(\n",
       "    f=(Functional(\n",
       "        f=<function N at 0x7fc32de325f0>\n",
       "        args=(\n",
       "            1,\n",
       "            2\n",
       "        )\n",
       "        kwargs={}\n",
       "    ) . <class 'int'>)\n",
       "    args=()\n",
       "    kwargs={}\n",
       ")"
      ]
     },
     "execution_count": 4,
     "metadata": {},
     "output_type": "execute_result"
    }
   ],
   "source": [
    "import sympy as sp\n",
    "\n",
    "N = fp(sp.N)\n",
    "N.P(1, 2) @ int"
   ]
  }
 ],
 "metadata": {
  "interpreter": {
   "hash": "97cc609b13305c559618ec78a438abc56230b9381f827f22d070313b9a1f3777"
  },
  "kernelspec": {
   "display_name": "Coconut",
   "language": "python",
   "name": "python3"
  },
  "language_info": {
   "codemirror_mode": {
    "name": "ipython",
    "version": 3
   },
   "file_extension": ".py",
   "mimetype": "text/x-python",
   "name": "python",
   "nbconvert_exporter": "python",
   "pygments_lexer": "ipython3",
   "version": "3.10.0"
  },
  "orig_nbformat": 4
 },
 "nbformat": 4,
 "nbformat_minor": 2
}
