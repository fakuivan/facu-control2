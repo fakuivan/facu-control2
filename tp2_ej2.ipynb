{
 "cells": [
  {
   "cell_type": "code",
   "execution_count": null,
   "metadata": {},
   "outputs": [],
   "source": [
    "from utils.ratpolys import ratpoly_inv\n",
    "from typing import Sequence, TypeVar, Union as U\n",
    "from utils.ctrl import siso_numden\n",
    "from control import TransferFunction\n",
    "from control import matlab as m\n",
    "\n",
    "T = TypeVar(\"T\")\n",
    "Poly = Sequence[T]\n",
    "RatPoly = tuple[Poly[T], Poly[T]]\n",
    "\n",
    "def osap(num: Poly[T], den: Poly[T]\n",
    ") -> tuple[RatPoly[U[T, int]],\n",
    "           RatPoly[U[T, int]],\n",
    "           RatPoly[U[T, int]]]:\n",
    "    \"\"\"\n",
    "    Not tested\n",
    "    \"\"\"\n",
    "    inum, iden = ratpoly_inv(num, den)\n",
    "    b0, *b_rest = iden\n",
    "    a_n = inum\n",
    "    controller = ratpoly_inv([1], a_n)\n",
    "    feedback = ratpoly_inv(b_rest, [1])\n",
    "    return ([b0, 0], [1]), controller, feedback\n",
    "\n",
    "def osap_sys(plant: TransferFunction):\n",
    "    dt = plant.dt\n",
    "    return tuple(\n",
    "        TransferFunction(*numden, dt)\n",
    "        for numden in osap(*siso_numden(plant.minreal())))\n",
    "\n",
    "def osap_cl(plant: TransferFunction) -> TransferFunction:\n",
    "    pre, controller, feedback = osap_sys(plant)\n",
    "    return pre*m.feedback(controller*plant, feedback)"
   ]
  }
 ],
 "metadata": {
  "interpreter": {
   "hash": "f9f85f796d01129d0dd105a088854619f454435301f6ffec2fea96ecbd9be4ac"
  },
  "kernelspec": {
   "display_name": "Python 3.9.7 64-bit",
   "name": "python3"
  },
  "language_info": {
   "codemirror_mode": {
    "name": "ipython",
    "version": 3
   },
   "file_extension": ".py",
   "mimetype": "text/x-python",
   "name": "python",
   "nbconvert_exporter": "python",
   "pygments_lexer": "ipython3",
   "version": "3.9.7"
  },
  "orig_nbformat": 4
 },
 "nbformat": 4,
 "nbformat_minor": 2
}
