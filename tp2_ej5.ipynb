{
 "cells": [
  {
   "cell_type": "code",
   "execution_count": 1,
   "metadata": {},
   "outputs": [
    {
     "data": {
      "text/latex": [
       "$\\displaystyle \\frac{C R r_{L} s + R}{R + r_{L} + s^{2} \\left(C L R + C L r_{C}\\right) + s \\left(C R r_{C} + C R r_{L} + C r_{C} r_{L} + L\\right)}$"
      ],
      "text/plain": [
       "(C*R*r_L*s + R)/(R + r_L + s**2*(C*L*R + C*L*r_C) + s*(C*R*r_C + C*R*r_L + C*r_C*r_L + L))"
      ]
     },
     "execution_count": 1,
     "metadata": {},
     "output_type": "execute_result"
    }
   ],
   "source": [
    "from sympy.abc import s, z\n",
    "import sympy as sp\n",
    "import numpy as np\n",
    "import control.matlab as m\n",
    "from utils.units import basis, u\n",
    "from IPython.display import display\n",
    "l, c, r, rl, rc = sp.symbols(\"L C R r_L r_C\")\n",
    "\n",
    "gp_ =               (r+c*r*rl*s)/(\n",
    "    (c*l*r+c*l*rc)*s**2+(l+c*r*rc+c*r*rl+c*rc*rl)*s+r+rl)\n",
    "\n",
    "gp_"
   ]
  },
  {
   "cell_type": "code",
   "execution_count": 2,
   "metadata": {},
   "outputs": [
    {
     "data": {
      "text/latex": [
       "$\\displaystyle \\left\\{ C : 700 \\mathrm{\\mu} {\\text{F}}, \\  L : 400 \\mathrm{\\mu} {\\text{H}}, \\  R : 6.22 \\Omega, \\  r_{C} : 0.1 \\Omega, \\  r_{L} : 0.1 \\Omega\\right\\}$"
      ],
      "text/plain": [
       "{C: 700*microfarad, L: 400*microhenry, R: 6.22*ohm, r_C: 0.1*ohm, r_L: 0.1*ohm}"
      ]
     },
     "execution_count": 2,
     "metadata": {},
     "output_type": "execute_result"
    }
   ],
   "source": [
    "params = {\n",
    "    l: 400*u.uH,\n",
    "    c: 700*u.uF,\n",
    "    r: 6.22*u.ohm,\n",
    "    rl: .1*u.ohm,\n",
    "    rc: .1*u.ohm\n",
    "}\n",
    "sp.Dict(params)"
   ]
  },
  {
   "cell_type": "code",
   "execution_count": 3,
   "metadata": {},
   "outputs": [
    {
     "data": {
      "text/latex": [
       "$\\displaystyle \\frac{0.0004354 s \\text{s} + 6.22}{1.7696 \\cdot 10^{-6} s^{2} \\text{s}^{2} + 0.0012778 s \\text{s} + 6.32}$"
      ],
      "text/plain": [
       "(0.0004354*second*s + 6.22)/(1.7696e-6*second**2*s**2 + 0.0012778*second*s + 6.32)"
      ]
     },
     "execution_count": 3,
     "metadata": {},
     "output_type": "execute_result"
    }
   ],
   "source": [
    "from utils.units.sympy_helpers import to_basis, SI\n",
    "gp = to_basis(SI, gp_.subs(params)).simplify()\n",
    "gp"
   ]
  },
  {
   "cell_type": "code",
   "execution_count": 4,
   "metadata": {},
   "outputs": [
    {
     "data": {
      "text/plain": [
       "NumericalBasis(mapper=QuantityMapper(salt=275919808173289240), proxy_system=<UnitSystem: (meter, kilogram, second, ampere, mole, candela, kelvin)>)"
      ]
     },
     "execution_count": 4,
     "metadata": {},
     "output_type": "execute_result"
    }
   ],
   "source": [
    "nu = basis()\n",
    "nu"
   ]
  },
  {
   "cell_type": "code",
   "execution_count": 5,
   "metadata": {},
   "outputs": [
    {
     "data": {
      "text/latex": [
       "$$\\frac{0.006525 s + 6.22}{0.0003974 s^2 + 0.01915 s + 6.32}$$"
      ],
      "text/plain": [
       "TransferFunction(array([0.00652485, 6.22      ]), array([3.97410036e-04, 1.91489403e-02, 6.32000000e+00]))"
      ]
     },
     "execution_count": 5,
     "metadata": {},
     "output_type": "execute_result"
    }
   ],
   "source": [
    "from utils.ctrl import expr2sys\n",
    "gp_tf = expr2sys(nu.to_numeric(gp, as_expr=True), s)\n",
    "gp_tf"
   ]
  },
  {
   "cell_type": "code",
   "execution_count": 6,
   "metadata": {},
   "outputs": [
    {
     "data": {
      "text/latex": [
       "$\\displaystyle \\frac{0.040704428147786 z - 0.00689506811957075}{1.0 z^{2} - 1.89598406643148 z + 0.930336985302596}$"
      ],
      "text/plain": [
       "(0.040704428147786*z - 0.00689506811957075)/(1.0*z**2 - 1.89598406643148*z + 0.930336985302596)"
      ]
     },
     "execution_count": 6,
     "metadata": {},
     "output_type": "execute_result"
    }
   ],
   "source": [
    "from utils.ctrl import sys2expr\n",
    "dt = 1/(10*u.kHz)\n",
    "\n",
    "gp_dtf = m.c2d(gp_tf, nu[dt])\n",
    "gp_d = sys2expr(gp_dtf, z)\n",
    "gp_d"
   ]
  },
  {
   "cell_type": "code",
   "execution_count": 7,
   "metadata": {},
   "outputs": [
    {
     "data": {
      "text/plain": [
       "(3.6137201200619518, -3.8167197110273636)"
      ]
     },
     "execution_count": 7,
     "metadata": {},
     "output_type": "execute_result"
    }
   ],
   "source": [
    "from utils.ctrlsys import pole_specs, z_map\n",
    "from utils.math import sp_reim as reim\n",
    "import control.matlab as m\n",
    "\n",
    "def rlocus_cond(dp, z, fb):\n",
    "    return fb.subs(z, dp)+1\n",
    "\n",
    "k1, k2 = sp.symbols(\"K_1 K_2\", real=True)\n",
    "\n",
    "# controlador pd predictivo\n",
    "gc_d = (k1*z+k2)/(z**2)\n",
    "\n",
    "ts = 3*u.ms\n",
    "mp = 5*u.percent\n",
    "\n",
    "_, dp_s = pole_specs(nu[ts], nu[mp])\n",
    "\n",
    "dp = z_map(dp_s, nu[dt])\n",
    "\n",
    "k1_, k2_ = map(float, sp.nsolve(\n",
    "    reim(rlocus_cond(dp, z, gp_d*gc_d)),\n",
    "    (k1, k2), (.5, .5)\n",
    "))\n",
    "k1_, k2_"
   ]
  },
  {
   "cell_type": "code",
   "execution_count": 8,
   "metadata": {},
   "outputs": [
    {
     "data": {
      "text/plain": [
       "(4.527497857358355, -5.007858418156794)"
      ]
     },
     "execution_count": 8,
     "metadata": {},
     "output_type": "execute_result"
    }
   ],
   "source": [
    "from utils.ctrlsys import autotune, feedforward\n",
    "\n",
    "k1_, k2_ = autotune({k1: k1_, k2: k2_},\n",
    "    z, m.tf(\"z\"),\n",
    "    gc_d,\n",
    "    nu[mp]*.95, nu[ts]*.95,\n",
    "    gp_dtf,\n",
    "    1, config=feedforward, iter=30)\n",
    "k1_, k2_"
   ]
  },
  {
   "cell_type": "code",
   "execution_count": 9,
   "metadata": {},
   "outputs": [
    {
     "data": {
      "text/latex": [
       "$$\\frac{4.527 z - 5.008}{z^2}$$"
      ],
      "text/plain": [
       "TransferFunction(array([ 4.52749786, -5.00785842]), array([1., 0., 0.]), True)"
      ]
     },
     "execution_count": 9,
     "metadata": {},
     "output_type": "execute_result"
    }
   ],
   "source": [
    "from utils.ctrl import expr2sys\n",
    "gc_dtf = expr2sys(gc_d.subs({k1: k1_, k2: k2_}), z)\n",
    "gc_dtf"
   ]
  },
  {
   "cell_type": "code",
   "execution_count": 10,
   "metadata": {},
   "outputs": [],
   "source": [
    "from utils.ctrlsys import feedforward\n",
    "gclff_dtf = feedforward(gp_dtf, gc_dtf)\n",
    "gcl_dtf = m.feedback(gp_dtf*gc_dtf)"
   ]
  },
  {
   "cell_type": "code",
   "execution_count": 11,
   "metadata": {},
   "outputs": [
    {
     "data": {
      "image/png": "[encoded data removed]",
      "text/plain": [
       "<Figure size 432x288 with 2 Axes>"
      ]
     },
     "metadata": {
      "needs_background": "light"
     },
     "output_type": "display_data"
    }
   ],
   "source": [
    "from utils.mpl import io_axes, nu_twinx_axes\n",
    "from utils.ctrl import step_resp\n",
    "\n",
    "fig, (ax_e, ax_r), next_color, set_gain_and_legend_loc = io_axes()\n",
    "plot_step, plot_ref = step_resp(ax_e.plot, ax_r.plot, next_color)\n",
    "\n",
    "set_time_title, set_e_title, set_r_title = nu_twinx_axes(\n",
    "    nu, ax_e, ax_r, u.ms, 1, 1\n",
    ")\n",
    "\n",
    "plot_step(m.feedback(gp_tf), label=\"Respuesta LC sin controlador\")\n",
    "plot_step(gcl_dtf, label=\"Respuesta LC\")\n",
    "plot_step(gclff_dtf, label=\"Respuesta LC con feed-forward\")\n",
    "plot_ref(label=\"Referencia\")\n",
    "\n",
    "set_time_title(\"Tiempo\")\n",
    "set_e_title(\"Excitación\")\n",
    "set_r_title(\"Respuesta\")\n",
    "ax_e.grid()\n",
    "set_gain_and_legend_loc(1, \"lower right\")"
   ]
  },
  {
   "cell_type": "code",
   "execution_count": 12,
   "metadata": {},
   "outputs": [
    {
     "name": "stderr",
     "output_type": "stream",
     "text": [
      "/home/fakui/.local/lib/python3.9/site-packages/control/timeresp.py:293: UserWarning: return_x specified for a transfer function system. Internal conversion to state space used; results may meaningless.\n",
      "  warnings.warn(\n"
     ]
    },
    {
     "data": {
      "image/png": "[encoded data removed]",
      "text/plain": [
       "<Figure size 432x288 with 2 Axes>"
      ]
     },
     "metadata": {
      "needs_background": "light"
     },
     "output_type": "display_data"
    }
   ],
   "source": [
    "from utils.mpl import io_axes, nu_twinx_axes\n",
    "from utils.ctrl import step_resp\n",
    "from utils.ctrlsys import zoh_stairs\n",
    "\n",
    "fig, (ax_e, ax_r), next_color, set_gain_and_legend_loc = io_axes()\n",
    "\n",
    "set_time_title, set_e_title, set_r_title = nu_twinx_axes(\n",
    "    nu, ax_e, ax_r, u.ms, 1, 1\n",
    ")\n",
    "\n",
    "t = np.arange(0, nu[50*u.ms], nu[dt])\n",
    "ref = np.sin(2*np.pi*nu[50*u.Hz]*t)\n",
    "out, _, _ = m.lsim(gclff_dtf, ref, T=t)\n",
    "\n",
    "ax_e.plot(*zoh_stairs(t, ref), c=next_color(), label=\"Referencia\")\n",
    "ax_r.plot(*zoh_stairs(t, out), c=next_color(), label=\"Respuesta\")\n",
    "\n",
    "set_time_title(\"Tiempo\")\n",
    "set_e_title(\"Excitación\")\n",
    "set_r_title(\"Respuesta\")\n",
    "ax_e.grid()\n",
    "set_gain_and_legend_loc(1, \"lower right\")"
   ]
  },
  {
   "cell_type": "code",
   "execution_count": 13,
   "metadata": {},
   "outputs": [
    {
     "data": {
      "text/latex": [
       "$\\displaystyle u{\\left(k \\right)} = - 5.008 e{\\left(k - 2 \\right)} + 4.528 e{\\left(k - 1 \\right)} + r{\\left(k \\right)}$"
      ],
      "text/plain": [
       "Eq(u(k), -5.008*e(k - 2) + 4.528*e(k - 1) + r(k))"
      ]
     },
     "execution_count": 13,
     "metadata": {},
     "output_type": "execute_result"
    }
   ],
   "source": [
    "from utils.ctrlsys import difference_eq\n",
    "from utils.ctrl import siso_numden\n",
    "\n",
    "def my_diff_eq(sys, ff=False):\n",
    "    e, u = map(sp.Function, \"e u\".split(\" \"))\n",
    "    k = sp.symbols(\"k\", real=True)\n",
    "    res = difference_eq(*siso_numden(sys), e, u, k)\n",
    "    if not ff:\n",
    "        return res\n",
    "    r = sp.Function(\"r\")\n",
    "    lhs, rhs = res.args\n",
    "    return sp.Eq(lhs, rhs + r(k))\n",
    "\n",
    "my_diff_eq(gc_dtf, ff=True).n(4)"
   ]
  },
  {
   "cell_type": "code",
   "execution_count": 14,
   "metadata": {},
   "outputs": [
    {
     "data": {
      "text/latex": [
       "$\\displaystyle \\frac{K_{mi} s}{\\omega_{1}^{2} n^{2} + s^{2}}$"
      ],
      "text/plain": [
       "K_{mi}*s/(\\omega_1**2*n**2 + s**2)"
      ]
     },
     "execution_count": 14,
     "metadata": {},
     "output_type": "execute_result"
    }
   ],
   "source": [
    "kmi, n, w1 = sp.symbols(\"K_{mi} n, \\\\omega_1\")\n",
    "\n",
    "gres = kmi*s/(s**2+(n*w1)**2)\n",
    "gres"
   ]
  },
  {
   "cell_type": "code",
   "execution_count": 15,
   "metadata": {},
   "outputs": [],
   "source": [
    "from utils.units.sympy_helpers import without_units\n",
    "def usubs(var, val, expr):\n",
    "    return without_units(expr,\n",
    "        lambda dummify, expr: expr.subs(\n",
    "            var, dummify(val)))\n",
    "\n",
    "def var_in(var, unit, expr):\n",
    "    return usubs(var, var/unit, expr)"
   ]
  },
  {
   "cell_type": "code",
   "execution_count": 16,
   "metadata": {},
   "outputs": [
    {
     "data": {
      "text/latex": [
       "$\\displaystyle \\frac{50 s \\text{rad/s}}{10000 \\pi^{2} \\text{rad/s}^{2} + s^{2}}$"
      ],
      "text/plain": [
       "50*radians_per_second*s/(10000*pi**2*radians_per_second**2 + s**2)"
      ]
     },
     "metadata": {},
     "output_type": "display_data"
    },
    {
     "data": {
      "text/latex": [
       "$\\displaystyle \\frac{50 s \\text{rad/s}}{90000 \\pi^{2} \\text{rad/s}^{2} + s^{2}}$"
      ],
      "text/plain": [
       "50*radians_per_second*s/(90000*pi**2*radians_per_second**2 + s**2)"
      ]
     },
     "metadata": {},
     "output_type": "display_data"
    },
    {
     "data": {
      "text/latex": [
       "$\\displaystyle \\frac{30 s \\text{rad/s}}{250000 \\pi^{2} \\text{rad/s}^{2} + s^{2}}$"
      ],
      "text/plain": [
       "30*radians_per_second*s/(250000*pi**2*radians_per_second**2 + s**2)"
      ]
     },
     "metadata": {},
     "output_type": "display_data"
    },
    {
     "data": {
      "text/latex": [
       "$\\displaystyle 0$"
      ],
      "text/plain": [
       "0"
      ]
     },
     "metadata": {},
     "output_type": "display_data"
    }
   ],
   "source": [
    "uwu = u.rps\n",
    "w1_ = 50*uwu*sp.pi*2\n",
    "freqs = {1: 50, 3: 50, 5: 30, 7: 0}\n",
    "gcrs = [\n",
    "    gres.subs({w1: w1_, kmi: gain*uwu, n: nth})\n",
    "        for nth, gain in freqs.items()\n",
    "]\n",
    "list(map(display, gcrs)); None"
   ]
  },
  {
   "cell_type": "code",
   "execution_count": 17,
   "metadata": {},
   "outputs": [
    {
     "data": {
      "text/latex": [
       "$$\\frac{1.592 \\times 10^{-5} z - 1.592 \\times 10^{-5}}{z^2 - 2 z + 1}\\quad dt = 0.001498586653673142$$"
      ],
      "text/plain": [
       "TransferFunction(array([ 1.5915428e-05, -1.5915428e-05]), array([ 1.      , -1.999975,  1.      ]), 0.001498586653673142)"
      ]
     },
     "metadata": {},
     "output_type": "display_data"
    },
    {
     "data": {
      "text/latex": [
       "$\\displaystyle u{\\left(k \\right)} = - 1.592 \\cdot 10^{-5} e{\\left(k - 2 \\right)} + 1.592 \\cdot 10^{-5} e{\\left(k - 1 \\right)} - 1.0 u{\\left(k - 2 \\right)} + 2.0 u{\\left(k - 1 \\right)}$"
      ],
      "text/plain": [
       "Eq(u(k), -1.592e-5*e(k - 2) + 1.592e-5*e(k - 1) - 1.0*u(k - 2) + 2.0*u(k - 1))"
      ]
     },
     "metadata": {},
     "output_type": "display_data"
    },
    {
     "name": "stdout",
     "output_type": "stream",
     "text": [
      "#define a0_1 -0.000015915428\n",
      "#define a1_1 0.000015915428\n",
      "#define a2_1 0.000000000000\n",
      "#define b0_1 1.000000000000\n",
      "#define b1_1 -1.999975000052\n",
      "#define kmi_1 50.000000000000\n",
      "\n"
     ]
    },
    {
     "data": {
      "text/latex": [
       "$$\\frac{1.591 \\times 10^{-5} z - 1.591 \\times 10^{-5}}{z^2 - 2 z + 1}\\quad dt = 0.001498586653673142$$"
      ],
      "text/plain": [
       "TransferFunction(array([ 1.59148975e-05, -1.59148975e-05]), array([ 1.      , -1.999775,  1.      ]), 0.001498586653673142)"
      ]
     },
     "metadata": {},
     "output_type": "display_data"
    },
    {
     "data": {
      "text/latex": [
       "$\\displaystyle u{\\left(k \\right)} = - 1.591 \\cdot 10^{-5} e{\\left(k - 2 \\right)} + 1.591 \\cdot 10^{-5} e{\\left(k - 1 \\right)} - 1.0 u{\\left(k - 2 \\right)} + 2.0 u{\\left(k - 1 \\right)}$"
      ],
      "text/plain": [
       "Eq(u(k), -1.591e-5*e(k - 2) + 1.591e-5*e(k - 1) - 1.0*u(k - 2) + 2.0*u(k - 1))"
      ]
     },
     "metadata": {},
     "output_type": "display_data"
    },
    {
     "name": "stdout",
     "output_type": "stream",
     "text": [
      "#define a0_3 -0.000015914897\n",
      "#define a1_3 0.000015914897\n",
      "#define a2_3 0.000000000000\n",
      "#define b0_3 1.000000000000\n",
      "#define b1_3 -1.999775004219\n",
      "#define kmi_3 50.000000000000\n",
      "\n"
     ]
    },
    {
     "data": {
      "text/latex": [
       "$$\\frac{1.591 \\times 10^{-5} z - 1.591 \\times 10^{-5}}{z^2 - 1.999 z + 1}\\quad dt = 0.001498586653673142$$"
      ],
      "text/plain": [
       "TransferFunction(array([ 1.59138365e-05, -1.59138365e-05]), array([ 1.        , -1.99937503,  1.        ]), 0.001498586653673142)"
      ]
     },
     "metadata": {},
     "output_type": "display_data"
    },
    {
     "data": {
      "text/latex": [
       "$\\displaystyle u{\\left(k \\right)} = - 1.591 \\cdot 10^{-5} e{\\left(k - 2 \\right)} + 1.591 \\cdot 10^{-5} e{\\left(k - 1 \\right)} - 1.0 u{\\left(k - 2 \\right)} + 1.999 u{\\left(k - 1 \\right)}$"
      ],
      "text/plain": [
       "Eq(u(k), -1.591e-5*e(k - 2) + 1.591e-5*e(k - 1) - 1.0*u(k - 2) + 1.999*u(k - 1))"
      ]
     },
     "metadata": {},
     "output_type": "display_data"
    },
    {
     "name": "stdout",
     "output_type": "stream",
     "text": [
      "#define a0_5 -0.000015913836\n",
      "#define a1_5 0.000015913836\n",
      "#define a2_5 0.000000000000\n",
      "#define b0_5 1.000000000000\n",
      "#define b1_5 -1.999375032551\n",
      "#define kmi_5 30.000000000000\n",
      "\n"
     ]
    },
    {
     "data": {
      "text/latex": [
       "$$\\frac{1.591 \\times 10^{-5} z - 1.591 \\times 10^{-5}}{z^2 - 1.999 z + 1}\\quad dt = 0.001498586653673142$$"
      ],
      "text/plain": [
       "TransferFunction(array([ 1.59122451e-05, -1.59122451e-05]), array([ 1.        , -1.99877513,  1.        ]), 0.001498586653673142)"
      ]
     },
     "metadata": {},
     "output_type": "display_data"
    },
    {
     "data": {
      "text/latex": [
       "$\\displaystyle u{\\left(k \\right)} = - 1.591 \\cdot 10^{-5} e{\\left(k - 2 \\right)} + 1.591 \\cdot 10^{-5} e{\\left(k - 1 \\right)} - 1.0 u{\\left(k - 2 \\right)} + 1.999 u{\\left(k - 1 \\right)}$"
      ],
      "text/plain": [
       "Eq(u(k), -1.591e-5*e(k - 2) + 1.591e-5*e(k - 1) - 1.0*u(k - 2) + 1.999*u(k - 1))"
      ]
     },
     "metadata": {},
     "output_type": "display_data"
    },
    {
     "name": "stdout",
     "output_type": "stream",
     "text": [
      "#define a0_7 -0.000015912245\n",
      "#define a1_7 0.000015912245\n",
      "#define a2_7 0.000000000000\n",
      "#define b0_7 1.000000000000\n",
      "#define b1_7 -1.998775125047\n",
      "#define kmi_7 0.000000000000\n",
      "\n"
     ]
    }
   ],
   "source": [
    "from utils.ratpolys import ratpoly_inv\n",
    "\n",
    "# plz work\n",
    "for nth, gain in freqs.items():\n",
    "    sys = expr2sys(\n",
    "        nu.to_numeric(gres.subs({w1: w1_, kmi: uwu, n: nth}), as_expr=True), s)\n",
    "    sys_d = m.c2d(sys, nu[dt])\n",
    "    display(sys_d)\n",
    "    num, den = ratpoly_inv(*siso_numden(sys_d.minreal()))\n",
    "    display(my_diff_eq(sys_d.minreal()).n(4))\n",
    "\n",
    "    for i, coeff in enumerate(num):\n",
    "        print(f\"#define a{i}_{nth} {coeff:1.12f}\")\n",
    "    *rest, div = den\n",
    "    for i, coeff in enumerate(rest):\n",
    "        print(f\"#define b{i}_{nth} {coeff:1.12f}\")\n",
    "    print(f\"#define kmi_{nth} {gain/div:1.12f}\")\n",
    "    print()"
   ]
  },
  {
   "cell_type": "code",
   "execution_count": 18,
   "metadata": {},
   "outputs": [
    {
     "data": {
      "text/latex": [
       "$$\\frac{1.668 s}{3.142 s^2 + 34.97}$$"
      ],
      "text/plain": [
       "TransferFunction(array([1.66823853, 0.        ]), array([ 3.14159265,  0.        , 34.97245825]))"
      ]
     },
     "metadata": {},
     "output_type": "display_data"
    },
    {
     "data": {
      "text/latex": [
       "$$\\frac{1.668 s}{3.142 s^2 + 314.8}$$"
      ],
      "text/plain": [
       "TransferFunction(array([1.66823853, 0.        ]), array([  3.14159265,   0.        , 314.75212427]))"
      ]
     },
     "metadata": {},
     "output_type": "display_data"
    },
    {
     "data": {
      "text/latex": [
       "$$\\frac{1.001 s}{3.142 s^2 + 874.3}$$"
      ],
      "text/plain": [
       "TransferFunction(array([1.00094312, 0.        ]), array([  3.14159265,   0.        , 874.3114563 ]))"
      ]
     },
     "metadata": {},
     "output_type": "display_data"
    },
    {
     "data": {
      "text/latex": [
       "$$\\frac{0}{1}$$"
      ],
      "text/plain": [
       "TransferFunction(array([0.]), array([1.]))"
      ]
     },
     "metadata": {},
     "output_type": "display_data"
    }
   ],
   "source": [
    "gcr_tfs = [expr2sys(nu.to_numeric(gcr, as_expr=True), s) for gcr in gcrs]\n",
    "list(map(display, gcr_tfs)); None"
   ]
  },
  {
   "cell_type": "code",
   "execution_count": 19,
   "metadata": {},
   "outputs": [
    {
     "name": "stderr",
     "output_type": "stream",
     "text": [
      "/home/fakui/.local/lib/python3.9/site-packages/scipy/signal/filter_design.py:1631: BadCoefficients: Badly conditioned filter coefficients (numerator): the results may be meaningless\n",
      "  warnings.warn(\"Badly conditioned filter coefficients (numerator): the \"\n"
     ]
    },
    {
     "data": {
      "text/latex": [
       "$$\\frac{0.0007958 z - 0.0007958}{z^2 - 2 z + 1}\\quad dt = 0.001498586653673142$$"
      ],
      "text/plain": [
       "TransferFunction(array([ 0.00079577, -0.00079577]), array([ 1.      , -1.999975,  1.      ]), 0.001498586653673142)"
      ]
     },
     "metadata": {},
     "output_type": "display_data"
    },
    {
     "data": {
      "text/latex": [
       "$$\\frac{0.0007957 z - 0.0007957}{z^2 - 2 z + 1}\\quad dt = 0.001498586653673142$$"
      ],
      "text/plain": [
       "TransferFunction(array([ 0.00079574, -0.00079574]), array([ 1.      , -1.999775,  1.      ]), 0.001498586653673142)"
      ]
     },
     "metadata": {},
     "output_type": "display_data"
    },
    {
     "data": {
      "text/latex": [
       "$$\\frac{0.0004774 z - 0.0004774}{z^2 - 1.999 z + 1}\\quad dt = 0.001498586653673142$$"
      ],
      "text/plain": [
       "TransferFunction(array([ 0.00047742, -0.00047742]), array([ 1.        , -1.99937503,  1.        ]), 0.001498586653673142)"
      ]
     },
     "metadata": {},
     "output_type": "display_data"
    },
    {
     "data": {
      "text/latex": [
       "$$\\frac{0}{1}\\quad dt = 0.001498586653673142$$"
      ],
      "text/plain": [
       "TransferFunction(array([0.]), array([1.]), 0.001498586653673142)"
      ]
     },
     "metadata": {},
     "output_type": "display_data"
    }
   ],
   "source": [
    "gcr_dtfs = [m.c2d(gcr_tf, nu[dt]) for gcr_tf in gcr_tfs]\n",
    "list(map(display, gcr_dtfs)); None"
   ]
  },
  {
   "cell_type": "code",
   "execution_count": 21,
   "metadata": {},
   "outputs": [
    {
     "data": {
      "text/latex": [
       "$\\displaystyle u{\\left(k \\right)} = - 0.0007958 e{\\left(k - 2 \\right)} + 0.0007958 e{\\left(k - 1 \\right)} - 1.0 u{\\left(k - 2 \\right)} + 2.0 u{\\left(k - 1 \\right)}$"
      ],
      "text/plain": [
       "Eq(u(k), -0.0007958*e(k - 2) + 0.0007958*e(k - 1) - 1.0*u(k - 2) + 2.0*u(k - 1))"
      ]
     },
     "metadata": {},
     "output_type": "display_data"
    },
    {
     "data": {
      "text/latex": [
       "$\\displaystyle u{\\left(k \\right)} = - 0.0007957 e{\\left(k - 2 \\right)} + 0.0007957 e{\\left(k - 1 \\right)} - 1.0 u{\\left(k - 2 \\right)} + 2.0 u{\\left(k - 1 \\right)}$"
      ],
      "text/plain": [
       "Eq(u(k), -0.0007957*e(k - 2) + 0.0007957*e(k - 1) - 1.0*u(k - 2) + 2.0*u(k - 1))"
      ]
     },
     "metadata": {},
     "output_type": "display_data"
    },
    {
     "data": {
      "text/latex": [
       "$\\displaystyle u{\\left(k \\right)} = - 0.0004774 e{\\left(k - 2 \\right)} + 0.0004774 e{\\left(k - 1 \\right)} - 1.0 u{\\left(k - 2 \\right)} + 1.999 u{\\left(k - 1 \\right)}$"
      ],
      "text/plain": [
       "Eq(u(k), -0.0004774*e(k - 2) + 0.0004774*e(k - 1) - 1.0*u(k - 2) + 1.999*u(k - 1))"
      ]
     },
     "metadata": {},
     "output_type": "display_data"
    },
    {
     "data": {
      "text/latex": [
       "$\\displaystyle u{\\left(k \\right)} = 0$"
      ],
      "text/plain": [
       "Eq(u(k), 0)"
      ]
     },
     "metadata": {},
     "output_type": "display_data"
    }
   ],
   "source": [
    "[display(my_diff_eq(gcr_dtf).n(4)) for gcr_dtf in gcr_dtfs]; None"
   ]
  },
  {
   "cell_type": "code",
   "execution_count": 22,
   "metadata": {},
   "outputs": [
    {
     "data": {
      "image/png": "[encoded data removed]",
      "text/plain": [
       "<Figure size 432x288 with 2 Axes>"
      ]
     },
     "metadata": {
      "needs_background": "light"
     },
     "output_type": "display_data"
    }
   ],
   "source": [
    "from utils.mpl import set_datalim, nu_sharex_axes\n",
    "from utils.ctrl import bode_axes\n",
    "from functools import partial\n",
    "\n",
    "fig, (ax_gain, ax_phase), add_bode_, add_deg_locator = bode_axes()\n",
    "\n",
    "add_bode = partial(add_bode_, deg=False, dB=True)\n",
    "\n",
    "for freq in freqs.keys():\n",
    "    for ax in (ax_gain, ax_phase):\n",
    "        ax.axvline(nu[w1_*freq], c=\"gray\", linestyle=\"--\")\n",
    "\n",
    "w = np.geomspace(10*nu[u.rad/u.s], nu[sp.pi/dt], 1000)[:-1]\n",
    "add_bode(sum(gcr_dtfs), label=\"Controlador resonante\", omega=w)\n",
    "\n",
    "add_deg_locator(270)\n",
    "\n",
    "nu_sharex_axes(nu, ax_phase, ax_gain,\n",
    "    (\"Frecuencia\", 2*sp.pi*u.rad/u.s),\n",
    "    (\"Cambio de fase\", u.deg),\n",
    "    (\"Ganancia\", 1),\n",
    "    y2_in_db=True)\n",
    "\n",
    "ax_gain.grid(which='both')\n",
    "ax_phase.grid()\n",
    "set_datalim(ax_phase, y=(-nu[360*u.deg], nu[360*u.deg]*2))\n",
    "\n",
    "ax_phase.legend(); None\n",
    "\n",
    "#fig.savefig(out_dir / \"resp_parte1_compensado_bode.svg\")"
   ]
  }
 ],
 "metadata": {
  "interpreter": {
   "hash": "36cf16204b8548560b1c020c4e8fb5b57f0e4c58016f52f2d4be01e192833930"
  },
  "kernelspec": {
   "display_name": "Python 3.9.6 64-bit",
   "name": "python3"
  },
  "language_info": {
   "codemirror_mode": {
    "name": "ipython",
    "version": 3
   },
   "file_extension": ".py",
   "mimetype": "text/x-python",
   "name": "python",
   "nbconvert_exporter": "python",
   "pygments_lexer": "ipython3",
   "version": "3.9.6"
  },
  "orig_nbformat": 4
 },
 "nbformat": 4,
 "nbformat_minor": 2
}
