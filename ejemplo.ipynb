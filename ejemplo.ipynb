{
 "cells": [
  {
   "cell_type": "markdown",
   "metadata": {},
   "source": [
    "# Script básico para graficar respuestas al escalón\n",
    "\n",
    "Paquetes necesarios:\n",
    "* [`control`](https://pypi.org/project/control/)\n",
    "* [`matlplotlib`](https://pypi.org/project/matplotlib/)\n",
    "\n",
    "El paquete `control` incluye un módulo de compatibilidad con matlab\n",
    "tiene funciones análogas, con los mismos nombres, pero no es completamente\n",
    "igual función por función. Importamos el módulo `matlab` bajo el nombre `m`."
   ]
  },
  {
   "cell_type": "code",
   "execution_count": 1,
   "metadata": {
    "execution": {
     "iopub.execute_input": "2022-05-11T20:46:14.516144Z",
     "iopub.status.busy": "2022-05-11T20:46:14.515296Z",
     "iopub.status.idle": "2022-05-11T20:46:19.816790Z",
     "shell.execute_reply": "2022-05-11T20:46:19.816279Z"
    }
   },
   "outputs": [],
   "source": [
    "from control import matlab as m"
   ]
  },
  {
   "cell_type": "markdown",
   "metadata": {},
   "source": [
    "Una de las funciones que presenta prácticamente el mismo comportamiento es\n",
    "`tf`. Con \"s\" o \"z\" devuelve una función de transferencia continua o \n",
    "discreta, respectivamente."
   ]
  },
  {
   "cell_type": "code",
   "execution_count": 2,
   "metadata": {
    "execution": {
     "iopub.execute_input": "2022-05-11T20:46:19.822645Z",
     "iopub.status.busy": "2022-05-11T20:46:19.822104Z",
     "iopub.status.idle": "2022-05-11T20:46:19.831307Z",
     "shell.execute_reply": "2022-05-11T20:46:19.831550Z"
    }
   },
   "outputs": [
    {
     "data": {
      "text/latex": [
       "$$\\frac{s}{1}$$"
      ],
      "text/plain": [
       "TransferFunction(array([1, 0]), array([1]))"
      ]
     },
     "execution_count": 2,
     "metadata": {},
     "output_type": "execute_result"
    }
   ],
   "source": [
    "s = m.tf(\"s\")\n",
    "s  # mostramos el contenido de la variable s (s solita)"
   ]
  },
  {
   "cell_type": "markdown",
   "metadata": {},
   "source": [
    "La sintaxis acá es similar a la de matlab, se usan dos asteriscos para las\n",
    "potencias (`**`), no una cuña (`^`)."
   ]
  },
  {
   "cell_type": "code",
   "execution_count": 3,
   "metadata": {
    "execution": {
     "iopub.execute_input": "2022-05-11T20:46:19.837418Z",
     "iopub.status.busy": "2022-05-11T20:46:19.837090Z",
     "iopub.status.idle": "2022-05-11T20:46:19.841715Z",
     "shell.execute_reply": "2022-05-11T20:46:19.841442Z"
    }
   },
   "outputs": [
    {
     "data": {
      "text/latex": [
       "$$\\frac{0.0006}{s^2 + 0.3333 s + 0.006667}$$"
      ],
      "text/plain": [
       "TransferFunction(array([0.0006]), array([1.        , 0.33333333, 0.00666667]))"
      ]
     },
     "execution_count": 3,
     "metadata": {},
     "output_type": "execute_result"
    }
   ],
   "source": [
    "tau1, tau2 = 3, 200\n",
    "kp = 1.8/(15*tau2)\n",
    "sys =                 kp/(\n",
    "    s**2 + s*(1/tau1)+(1/tau2) + 1/(tau1*tau2))\n",
    "sys  # Mostramos la representación del sistema (contenido de la variable `sys`)"
   ]
  },
  {
   "cell_type": "markdown",
   "metadata": {},
   "source": [
    "A diferencia de la función `step` de matlab, esta nos devuelve\n",
    "la serie temporal en lugar de hacer el gráfico, por eso recurrimos\n",
    "a la función `plot` del módulo `pyplot` del paquete `matplotlib`\n",
    "para graficar la respuesta. "
   ]
  },
  {
   "cell_type": "code",
   "execution_count": 4,
   "metadata": {
    "execution": {
     "iopub.execute_input": "2022-05-11T20:46:19.844874Z",
     "iopub.status.busy": "2022-05-11T20:46:19.844460Z",
     "iopub.status.idle": "2022-05-11T20:46:20.023558Z",
     "shell.execute_reply": "2022-05-11T20:46:20.023268Z"
    }
   },
   "outputs": [
    {
     "data": {
      "text/plain": [
       "[<matplotlib.lines.Line2D at 0x7fa09dd83070>]"
      ]
     },
     "execution_count": 4,
     "metadata": {},
     "output_type": "execute_result"
    },
    {
     "data": {
      "image/png": "[encoded data removed]",
      "text/plain": [
       "<Figure size 432x288 with 1 Axes>"
      ]
     },
     "metadata": {
      "needs_background": "light"
     },
     "output_type": "display_data"
    }
   ],
   "source": [
    "from matplotlib import pyplot as plt\n",
    "\n",
    "resp, t = m.step(sys)\n",
    "\n",
    "plt.plot(t, resp)"
   ]
  },
  {
   "cell_type": "markdown",
   "metadata": {},
   "source": [
    "En una notebook de jupyter, se puede obtener la documentación\n",
    "para alguna función, módulo u otro tipo de objeto colocando un signo\n",
    "de pregunta (`?`) al final de la línea. En una sesión interactiva común\n",
    "se puede utilizar la función `help`, a mismo efecto."
   ]
  },
  {
   "cell_type": "code",
   "execution_count": 5,
   "metadata": {
    "execution": {
     "iopub.execute_input": "2022-05-11T20:46:20.026790Z",
     "iopub.status.busy": "2022-05-11T20:46:20.026436Z",
     "iopub.status.idle": "2022-05-11T20:46:20.029313Z",
     "shell.execute_reply": "2022-05-11T20:46:20.029560Z"
    }
   },
   "outputs": [
    {
     "name": "stdout",
     "output_type": "stream",
     "text": [
      "Help on function step in module control.matlab.timeresp:\n",
      "\n",
      "step(sys, T=None, X0=0.0, input=0, output=None, return_x=False)\n",
      "    Step response of a linear system\n",
      "    \n",
      "    If the system has multiple inputs or outputs (MIMO), one input has\n",
      "    to be selected for the simulation.  Optionally, one output may be\n",
      "    selected. If no selection is made for the output, all outputs are\n",
      "    given. The parameters `input` and `output` do this. All other\n",
      "    inputs are set to 0, all other outputs are ignored.\n",
      "    \n",
      "    Parameters\n",
      "    ----------\n",
      "    sys: StateSpace, or TransferFunction\n",
      "        LTI system to simulate\n",
      "    \n",
      "    T: array-like or number, optional\n",
      "        Time vector, or simulation time duration if a number (time vector is\n",
      "        autocomputed if not given)\n",
      "    \n",
      "    X0: array-like or number, optional\n",
      "        Initial condition (default = 0)\n",
      "    \n",
      "        Numbers are converted to constant arrays with the correct shape.\n",
      "    \n",
      "    input: int\n",
      "        Index of the input that will be used in this simulation.\n",
      "    \n",
      "    output: int\n",
      "        If given, index of the output that is returned by this simulation.\n",
      "    \n",
      "    Returns\n",
      "    -------\n",
      "    yout: array\n",
      "        Response of the system\n",
      "    \n",
      "    T: array\n",
      "        Time values of the output\n",
      "    \n",
      "    xout: array (if selected)\n",
      "        Individual response of each x variable\n",
      "    \n",
      "    \n",
      "    \n",
      "    See Also\n",
      "    --------\n",
      "    lsim, initial, impulse\n",
      "    \n",
      "    Examples\n",
      "    --------\n",
      "    >>> yout, T = step(sys, T, X0)\n",
      "\n"
     ]
    }
   ],
   "source": [
    "help(m.step)"
   ]
  },
  {
   "cell_type": "code",
   "execution_count": 6,
   "metadata": {
    "execution": {
     "iopub.execute_input": "2022-05-11T20:46:20.061761Z",
     "iopub.status.busy": "2022-05-11T20:46:20.061085Z",
     "iopub.status.idle": "2022-05-11T20:46:20.070814Z",
     "shell.execute_reply": "2022-05-11T20:46:20.070041Z"
    }
   },
   "outputs": [],
   "source": [
    "m.step?"
   ]
  },
  {
   "cell_type": "markdown",
   "metadata": {},
   "source": [
    "Finalmente, se pueden obtener gráficos más completos utilizando las\n",
    "distintas funciones del módulo `pyplot`. La documentación para los módulos de\n",
    "los paquetes mencionados puede encontrase en la página de PyPi (Python Package Index)\n",
    "bajo \"Project Links\" -> \"Homepage\", cuyos enlaces se listan al\n",
    "principio de este documento."
   ]
  },
  {
   "cell_type": "code",
   "execution_count": 7,
   "metadata": {
    "execution": {
     "iopub.execute_input": "2022-05-11T20:46:20.084315Z",
     "iopub.status.busy": "2022-05-11T20:46:20.083489Z",
     "iopub.status.idle": "2022-05-11T20:46:20.165081Z",
     "shell.execute_reply": "2022-05-11T20:46:20.164773Z"
    }
   },
   "outputs": [
    {
     "data": {
      "text/plain": [
       "<matplotlib.legend.Legend at 0x7fa09dc4e890>"
      ]
     },
     "execution_count": 7,
     "metadata": {},
     "output_type": "execute_result"
    },
    {
     "data": {
      "image/png": "[encoded data removed]",
      "text/plain": [
       "<Figure size 432x288 with 1 Axes>"
      ]
     },
     "metadata": {
      "needs_background": "light"
     },
     "output_type": "display_data"
    }
   ],
   "source": [
    "plt.plot(t, resp, label=\"Sistema 1\")\n",
    "\n",
    "plt.xlabel(\"Tiempo (s)\")\n",
    "plt.ylabel(\"Respuesta\")\n",
    "plt.grid()\n",
    "plt.legend()"
   ]
  }
 ],
 "metadata": {
  "interpreter": {
   "hash": "97cc609b13305c559618ec78a438abc56230b9381f827f22d070313b9a1f3777"
  },
  "kernelspec": {
   "display_name": "Python 3.10.4 64-bit",
   "language": "python",
   "name": "python3"
  },
  "language_info": {
   "codemirror_mode": {
    "name": "ipython",
    "version": 3
   },
   "file_extension": ".py",
   "mimetype": "text/x-python",
   "name": "python",
   "nbconvert_exporter": "python",
   "pygments_lexer": "ipython3",
   "version": "3.10.4"
  }
 },
 "nbformat": 4,
 "nbformat_minor": 2
}
