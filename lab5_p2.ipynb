{
 "cells": [
  {
   "cell_type": "code",
   "execution_count": 1,
   "metadata": {},
   "outputs": [
    {
     "data": {
      "text/latex": [
       "$\\displaystyle \\frac{K_\\mathrm{PD} K_\\mathrm{PI} \\left(- a_\\mathrm{PD} + z\\right) \\left(- a_\\mathrm{PI} + z\\right)}{z \\left(z - 1\\right)}$"
      ],
      "text/plain": [
       "K_\\mathrm{PD}*K_\\mathrm{PI}*(-a_\\mathrm{PD} + z)*(-a_\\mathrm{PI} + z)/(z*(z - 1))"
      ]
     },
     "execution_count": 1,
     "metadata": {},
     "output_type": "execute_result"
    }
   ],
   "source": [
    "import sympy as sp\n",
    "from sympy.abc import z\n",
    "\n",
    "k_pi, k_pd, a_pi, a_pd = sp.symbols(\n",
    "    \"K_\\\\mathrm{PI} K_\\\\mathrm{PD} a_\\\\mathrm{PI} a_\\\\mathrm{PD}\"\n",
    ")\n",
    "\n",
    "gc_pd = k_pd*(z-a_pd)/z\n",
    "gc_pi = k_pi*(z-a_pi)/(z-1)\n",
    "gc_pi*gc_pd"
   ]
  },
  {
   "cell_type": "code",
   "execution_count": 2,
   "metadata": {},
   "outputs": [
    {
     "data": {
      "text/latex": [
       "$\\displaystyle - \\frac{K_\\mathrm{D} \\left(z - 1\\right)}{T_{s} z} + \\frac{{K_\\mathrm{PI}}' \\left(z - {a_\\mathrm{PI}}'\\right)}{z - 1}$"
      ],
      "text/plain": [
       "-K_\\mathrm{D}*(z - 1)/(T_s*z) + {K_\\mathrm{PI}}'*(z - {a_\\mathrm{PI}}')/(z - 1)"
      ]
     },
     "execution_count": 2,
     "metadata": {},
     "output_type": "execute_result"
    }
   ],
   "source": [
    "k_pip, a_pip, k_d, dt = sp.symbols(\"{K_\\\\mathrm{PI}}' {a_\\\\mathrm{PI}}' K_\\\\mathrm{D}, T_s\")\n",
    "\n",
    "gc_d = (k_d/dt)*(z-1)/z\n",
    "gc_pimd = gc_pi.subs({k_pi: k_pip, a_pi: a_pip})-gc_d\n",
    "\n",
    "gc_pimd"
   ]
  },
  {
   "cell_type": "code",
   "execution_count": 3,
   "metadata": {},
   "outputs": [
    {
     "data": {
      "text/latex": [
       "$\\displaystyle - \\frac{K_\\mathrm{D} \\left(z - 1\\right)}{T_{s} z} + \\frac{{K_\\mathrm{PI}}' \\left(z - {a_\\mathrm{PI}}'\\right)}{z - 1} = \\frac{K_\\mathrm{PD} K_\\mathrm{PI} \\left(- a_\\mathrm{PD} + z\\right) \\left(- a_\\mathrm{PI} + z\\right)}{z \\left(z - 1\\right)}$"
      ],
      "text/plain": [
       "Eq(-K_\\mathrm{D}*(z - 1)/(T_s*z) + {K_\\mathrm{PI}}'*(z - {a_\\mathrm{PI}}')/(z - 1), K_\\mathrm{PD}*K_\\mathrm{PI}*(-a_\\mathrm{PD} + z)*(-a_\\mathrm{PI} + z)/(z*(z - 1)))"
      ]
     },
     "execution_count": 3,
     "metadata": {},
     "output_type": "execute_result"
    }
   ],
   "source": [
    "eq = sp.Eq(gc_pimd, gc_pi*gc_pd)\n",
    "eq"
   ]
  },
  {
   "cell_type": "code",
   "execution_count": 4,
   "metadata": {},
   "outputs": [
    {
     "data": {
      "text/latex": [
       "$\\displaystyle \\left\\{ K_\\mathrm{D} : - K_\\mathrm{PD} K_\\mathrm{PI} T_{s} a_\\mathrm{PD} a_\\mathrm{PI}, \\  {K_\\mathrm{PI}}' : K_\\mathrm{PD} K_\\mathrm{PI} \\left(- a_\\mathrm{PD} a_\\mathrm{PI} + 1\\right), \\  {a_\\mathrm{PI}}' : \\frac{2 a_\\mathrm{PD} a_\\mathrm{PI} - a_\\mathrm{PD} - a_\\mathrm{PI}}{a_\\mathrm{PD} a_\\mathrm{PI} - 1}\\right\\}$"
      ],
      "text/plain": [
       "{K_\\mathrm{D}: -K_\\mathrm{PD}*K_\\mathrm{PI}*T_s*a_\\mathrm{PD}*a_\\mathrm{PI}, {K_\\mathrm{PI}}': K_\\mathrm{PD}*K_\\mathrm{PI}*(-a_\\mathrm{PD}*a_\\mathrm{PI} + 1), {a_\\mathrm{PI}}': (2*a_\\mathrm{PD}*a_\\mathrm{PI} - a_\\mathrm{PD} - a_\\mathrm{PI})/(a_\\mathrm{PD}*a_\\mathrm{PI} - 1)}"
      ]
     },
     "execution_count": 4,
     "metadata": {},
     "output_type": "execute_result"
    }
   ],
   "source": [
    "from utils.sympy_helpers import solve\n",
    "from more_itertools import one\n",
    "\n",
    "sp.Dict(one(solve(eq, [k_pip, a_pip, k_d])))"
   ]
  }
 ],
 "metadata": {
  "interpreter": {
   "hash": "97cc609b13305c559618ec78a438abc56230b9381f827f22d070313b9a1f3777"
  },
  "kernelspec": {
   "display_name": "Python 3.10.0 64-bit",
   "language": "python",
   "name": "python3"
  },
  "language_info": {
   "codemirror_mode": {
    "name": "ipython",
    "version": 3
   },
   "file_extension": ".py",
   "mimetype": "text/x-python",
   "name": "python",
   "nbconvert_exporter": "python",
   "pygments_lexer": "ipython3",
   "version": "3.10.0"
  },
  "orig_nbformat": 4
 },
 "nbformat": 4,
 "nbformat_minor": 2
}
