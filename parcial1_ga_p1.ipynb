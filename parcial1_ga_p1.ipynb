{
 "cells": [
  {
   "cell_type": "code",
   "execution_count": 1,
   "metadata": {},
   "outputs": [],
   "source": [
    "from sympy.abc import s, z\n",
    "import sympy as sp\n",
    "import numpy as np\n",
    "from utils.units import u\n",
    "from utils.units.sympy_helpers import without_units, split_unit_form as split_unit\n",
    "from pathlib import Path\n",
    "\n",
    "def usubs(var, val, expr):\n",
    "    return without_units(expr,\n",
    "        lambda dummify, expr: expr.subs(\n",
    "            var, dummify(val)))\n",
    "\n",
    "def var_in(var, unit, expr):\n",
    "    return usubs(var, var/unit, expr)\n",
    "\n",
    "out_dir = Path(\"./out\") / \"parcial1_ga\""
   ]
  },
  {
   "cell_type": "code",
   "execution_count": 2,
   "metadata": {},
   "outputs": [
    {
     "data": {
      "text/latex": [
       "$\\displaystyle \\frac{406}{\\left(5 + \\frac{s \\text{s}}{\\text{rad}}\\right) \\left(56 + \\frac{s \\text{s}}{\\text{rad}}\\right)}$"
      ],
      "text/plain": [
       "406/((5 + second*s/radian)*(56 + second*s/radian))"
      ]
     },
     "execution_count": 2,
     "metadata": {},
     "output_type": "execute_result"
    }
   ],
   "source": [
    "gp = 406/((s+56)*(s+5))\n",
    "gp = var_in(s, u.rad/u.s, gp)\n",
    "gp"
   ]
  },
  {
   "cell_type": "code",
   "execution_count": 3,
   "metadata": {},
   "outputs": [
    {
     "data": {
      "text/latex": [
       "$\\displaystyle \\frac{\\left(3.8919576 + \\frac{0.37137 s \\text{s}}{\\text{rad}}\\right) \\text{rad}}{s \\text{s}}$"
      ],
      "text/plain": [
       "radian*(3.8919576 + 0.37137*second*s/radian)/(second*s)"
      ]
     },
     "execution_count": 3,
     "metadata": {},
     "output_type": "execute_result"
    }
   ],
   "source": [
    "gc = 0.37137*(s+10.48)/s\n",
    "gc = var_in(s, u.rad/u.s, gc)\n",
    "gc"
   ]
  },
  {
   "cell_type": "code",
   "execution_count": 4,
   "metadata": {},
   "outputs": [
    {
     "data": {
      "text/plain": [
       "NumericalBasis(mapper=QuantityMapper(salt=6716173735170344396), proxy_system=<UnitSystem: (meter, kilogram, second, ampere, mole, candela, kelvin)>)"
      ]
     },
     "execution_count": 4,
     "metadata": {},
     "output_type": "execute_result"
    }
   ],
   "source": [
    "from utils.units import basis\n",
    "nu = basis()\n",
    "nu"
   ]
  },
  {
   "cell_type": "code",
   "execution_count": 5,
   "metadata": {},
   "outputs": [],
   "source": [
    "from utils.ctrl import expr2sys, sys_deu, sys2zpk\n",
    "from control import matlab as m\n",
    "\n",
    "def my_expr2sys(expr, var, tf=None):\n",
    "    return expr2sys(nu.to_numeric(expr, as_expr=True), var, tf)\n",
    "\n",
    "gp_tf = my_expr2sys(gp, s)\n",
    "gc_tf = my_expr2sys(gc, s)\n",
    "gcl_tf = m.feedback(gc_tf*gp_tf)"
   ]
  },
  {
   "cell_type": "code",
   "execution_count": 6,
   "metadata": {},
   "outputs": [
    {
     "data": {
      "text/latex": [
       "$\\displaystyle \\frac{3.934 \\text{rad}}{\\text{s}}$"
      ],
      "text/plain": [
       "3.934*radian/second"
      ]
     },
     "execution_count": 6,
     "metadata": {},
     "output_type": "execute_result"
    }
   ],
   "source": [
    "wd_max = gcl_tf.pole().imag |> abs |> max |> nu.to_symb$(u.rad/u.s)\n",
    "wd_max.n(4)"
   ]
  },
  {
   "cell_type": "code",
   "execution_count": 7,
   "metadata": {},
   "outputs": [
    {
     "data": {
      "text/latex": [
       "$\\displaystyle 1.597 \\text{s}$"
      ],
      "text/plain": [
       "1.597*second"
      ]
     },
     "execution_count": 7,
     "metadata": {},
     "output_type": "execute_result"
    }
   ],
   "source": [
    "Td = (2*np.pi*u.rad)/wd_max\n",
    "Td.n(4)"
   ]
  },
  {
   "cell_type": "code",
   "execution_count": 8,
   "metadata": {},
   "outputs": [
    {
     "data": {
      "text/latex": [
       "$\\displaystyle 0.05324 \\text{s}$"
      ],
      "text/plain": [
       "0.05324*second"
      ]
     },
     "execution_count": 8,
     "metadata": {},
     "output_type": "execute_result"
    }
   ],
   "source": [
    "dt_ = Td/30\n",
    "dt_.n(4)"
   ]
  },
  {
   "cell_type": "code",
   "execution_count": 9,
   "metadata": {},
   "outputs": [
    {
     "data": {
      "text/plain": [
       "{'RiseTime': 0.330239213060258*second,\n",
       " 'SettlingTime': 1.02425755925721*second,\n",
       " 'SettlingMin': 0.902329280782888,\n",
       " 'SettlingMax': 1.06128309876141,\n",
       " 'Overshoot': 6.12830987614079*percent,\n",
       " 'Undershoot': 0,\n",
       " 'Peak': 1.06128309876141,\n",
       " 'PeakTime': 0.683698370788816*second,\n",
       " 'SteadyStateValue': 1.00000000000000}"
      ]
     },
     "execution_count": 9,
     "metadata": {},
     "output_type": "execute_result"
    }
   ],
   "source": [
    "from utils.ctrl import nu_stepinfo\n",
    "nu_stepinfo(nu, u.s, 1, m.stepinfo(gcl_tf))"
   ]
  },
  {
   "cell_type": "code",
   "execution_count": 10,
   "metadata": {},
   "outputs": [
    {
     "data": {
      "text/latex": [
       "$\\displaystyle \\left(\\frac{K_{i} T}{2} + K_{p}\\right) \\frac{z + \\frac{K_{i} T - 2 K_{p}}{K_{i} T + 2 K_{p}}}{z - 1}$"
      ],
      "text/plain": [
       "(K_i*T/2 + K_p)*((z + (K_i*T - 2*K_p)/(K_i*T + 2*K_p))/(z - 1))"
      ]
     },
     "execution_count": 10,
     "metadata": {},
     "output_type": "execute_result"
    }
   ],
   "source": [
    "from utils.ratpolys import ratpoly_zpk_form\n",
    "\n",
    "kp, ki, dt = sp.symbols(\"K_p K_i T\")\n",
    "s_bi = 2/dt*(z-1)/(z+1)\n",
    "g_pi = kp+ki/s\n",
    "\n",
    "g_pi.subs(\n",
    "    s, s_bi\n",
    ") |> ratpoly_zpk_form$(?, z)\n"
   ]
  },
  {
   "cell_type": "code",
   "execution_count": 11,
   "metadata": {},
   "outputs": [
    {
     "data": {
      "text/latex": [
       "$\\displaystyle 0.474980689545085 \\frac{z - 0.563726728998948}{z - 1}$"
      ],
      "text/plain": [
       "0.474980689545085*((z - 0.563726728998948)/(z - 1))"
      ]
     },
     "execution_count": 11,
     "metadata": {},
     "output_type": "execute_result"
    }
   ],
   "source": [
    "gc_d = gc |> usubs$(s, s_bi) |> usubs$(dt, dt_)\n",
    "gc_d |> nu.to_numeric$(?, as_expr=True) |> ratpoly_zpk_form$(?, z)"
   ]
  },
  {
   "cell_type": "code",
   "execution_count": 12,
   "metadata": {},
   "outputs": [
    {
     "data": {
      "text/latex": [
       "$$\\frac{0.475 z - 0.2678}{z - 1}$$"
      ],
      "text/plain": [
       "TransferFunction(array([ 0.47498069, -0.26775931]), array([ 1., -1.]), True)"
      ]
     },
     "execution_count": 12,
     "metadata": {},
     "output_type": "execute_result"
    }
   ],
   "source": [
    "gc_dtf = my_expr2sys(gc_d, z).minreal()\n",
    "gc_dtf"
   ]
  },
  {
   "cell_type": "code",
   "execution_count": 13,
   "metadata": {},
   "outputs": [
    {
     "data": {
      "text/latex": [
       "$$\\frac{0.2372 z + 0.08454}{z^2 - 0.817 z + 0.03886}\\quad dt = 0.4859463705790609$$"
      ],
      "text/plain": [
       "TransferFunction(array([0.23718272, 0.08453633]), array([ 1.        , -0.81698236,  0.03885757]), 0.4859463705790609)"
      ]
     },
     "execution_count": 13,
     "metadata": {},
     "output_type": "execute_result"
    }
   ],
   "source": [
    "gp_dtf = m.c2d(gp_tf, nu[dt_])\n",
    "gp_dtf"
   ]
  },
  {
   "cell_type": "code",
   "execution_count": 14,
   "metadata": {},
   "outputs": [
    {
     "data": {
      "text/latex": [
       "$$\\frac{0.1127 z^2 - 0.02335 z - 0.02264}{z^3 - 1.704 z^2 + 0.8325 z - 0.06149}\\quad dt = 0.4859463705790609$$"
      ],
      "text/plain": [
       "TransferFunction(array([ 0.11265721, -0.02335476, -0.02263539]), array([ 1.        , -1.70432515,  0.83248517, -0.06149295]), 0.4859463705790609)"
      ]
     },
     "execution_count": 14,
     "metadata": {},
     "output_type": "execute_result"
    }
   ],
   "source": [
    "gcl_dtf = m.feedback(gc_dtf * gp_dtf)\n",
    "gcl_dtf"
   ]
  },
  {
   "cell_type": "code",
   "execution_count": 16,
   "metadata": {},
   "outputs": [
    {
     "data": {
      "image/png": "[encoded data removed]",
      "text/plain": [
       "<Figure size 432x288 with 2 Axes>"
      ]
     },
     "metadata": {
      "needs_background": "light"
     },
     "output_type": "display_data"
    }
   ],
   "source": [
    "from utils.ctrlsys import step, zoh_stairs\n",
    "from utils.mpl import io_axes, nu_twinx_axes\n",
    "from utils.ctrl import step_resp\n",
    "\n",
    "fig, (ax_e, ax_r), next_color, set_gain_and_legend_loc = io_axes()\n",
    "plot_step, plot_ref = step_resp(ax_e.plot, ax_r.plot, next_color)\n",
    "\n",
    "set_time_title, set_e_title, set_r_title = nu_twinx_axes(\n",
    "    nu, ax_e, ax_r, u.s, 1, 1\n",
    ")\n",
    "\n",
    "plot_step(gcl_tf, label=\"Respuesta LC en tiempo continuo\")\n",
    "plot_step(gcl_dtf, label=\"Respuesta LC discretizada\")\n",
    "plot_ref(label=\"Referencia\")\n",
    "\n",
    "set_time_title(\"Tiempo\")\n",
    "set_e_title(\"Excitación\")\n",
    "set_r_title(\"Respuesta\")\n",
    "ax_e.grid()\n",
    "set_gain_and_legend_loc(gcl_tf.dcgain(), \"lower right\")\n",
    "\n",
    "fig.savefig(out_dir / \"resp_parte1.svg\")"
   ]
  },
  {
   "cell_type": "code",
   "execution_count": null,
   "metadata": {},
   "outputs": [
    {
     "data": {
      "text/plain": [
       "{'RiseTime': 0.319460899199162*second,\n",
       " 'SettlingTime': 1.01162618079735*second,\n",
       " 'SettlingMin': 0.948473177626063,\n",
       " 'SettlingMax': 1.09467846619817,\n",
       " 'Overshoot': 9.46784661981769*percent,\n",
       " 'Undershoot': 0,\n",
       " 'Peak': 1.09467846619817,\n",
       " 'PeakTime': 0.638921798398324*second,\n",
       " 'SteadyStateValue': 0.999999999999997}"
      ]
     },
     "execution_count": 16,
     "metadata": {},
     "output_type": "execute_result"
    }
   ],
   "source": [
    "nu_stepinfo(nu, u.s, 1, m.stepinfo(gcl_dtf))"
   ]
  },
  {
   "cell_type": "code",
   "execution_count": null,
   "metadata": {},
   "outputs": [
    {
     "data": {
      "text/latex": [
       "$\\displaystyle u{\\left(k \\right)} = 0.475 e{\\left(k \\right)} - 0.2678 e{\\left(k - 1 \\right)} + 1.0 u{\\left(k - 1 \\right)}$"
      ],
      "text/plain": [
       "Eq(u(k), 0.475*e(k) - 0.2678*e(k - 1) + 1.0*u(k - 1))"
      ]
     },
     "execution_count": 22,
     "metadata": {},
     "output_type": "execute_result"
    }
   ],
   "source": [
    "from utils.ctrlsys import difference_eq\n",
    "from utils.ctrl import siso_numden\n",
    "\n",
    "difference_eq$(\n",
    "    *siso_numden(gc_dtf))$(\n",
    "    *map(sp.Function, [\"e\", \"u\"]))(\n",
    "    sp.Symbol(\"k\")).n(4)"
   ]
  },
  {
   "cell_type": "code",
   "execution_count": null,
   "metadata": {},
   "outputs": [],
   "source": []
  }
 ],
 "metadata": {
  "kernelspec": {
   "display_name": "Coconut (Python 3.9)",
   "language": "coconut",
   "name": "coconut"
  },
  "language_info": {
   "codemirror_mode": {
    "name": "python",
    "version": 3
   },
   "file_extension": ".coco",
   "mimetype": "text/x-python3",
   "name": "coconut",
   "pygments_lexer": "coconut",
   "version": "1.5.0"
  },
  "orig_nbformat": 4
 },
 "nbformat": 4,
 "nbformat_minor": 2
}
