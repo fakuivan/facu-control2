{
 "cells": [
  {
   "cell_type": "code",
   "execution_count": 1,
   "metadata": {},
   "outputs": [],
   "source": [
    "import sympy as sp\n",
    "import numpy as np\n",
    "from sympy.abc import s, z\n",
    "from control import matlab as m\n",
    "from utils.units import u, basis"
   ]
  },
  {
   "cell_type": "code",
   "execution_count": 2,
   "metadata": {},
   "outputs": [],
   "source": [
    "from utils.units.sympy_helpers import without_units\n",
    "\n",
    "def usubs(var, val, expr):\n",
    "    return without_units(expr,\n",
    "        lambda dummify, expr: expr.subs(\n",
    "            var, dummify(val)))\n",
    "\n",
    "def var_in(var, unit, expr):\n",
    "    return usubs(var, var/unit, expr)"
   ]
  },
  {
   "cell_type": "code",
   "execution_count": 3,
   "metadata": {},
   "outputs": [
    {
     "data": {
      "text/latex": [
       "$\\displaystyle \\frac{600 + \\frac{3 s \\text{s}}{\\text{rad}}}{\\left(1.6 + \\frac{s \\text{s}}{\\text{rad}}\\right) \\left(2 + \\frac{s \\text{s}}{\\text{rad}}\\right) \\left(9 + \\frac{s \\text{s}}{\\text{rad}}\\right)}$"
      ],
      "text/plain": [
       "(600 + 3*second*s/radian)/((1.6 + second*s/radian)*(2 + second*s/radian)*(9 + second*s/radian))"
      ]
     },
     "execution_count": 3,
     "metadata": {},
     "output_type": "execute_result"
    }
   ],
   "source": [
    "gp = 3*(s+200)/(\n",
    "    (s+9)*(s+2)*(s+1.6)\n",
    ")\n",
    "\n",
    "gp = var_in(s, u.rad/u.s, gp)\n",
    "gp"
   ]
  },
  {
   "cell_type": "code",
   "execution_count": 4,
   "metadata": {},
   "outputs": [
    {
     "data": {
      "text/plain": [
       "NumericalBasis(mapper=QuantityMapper(salt=-5691439726798981926), proxy_system=<UnitSystem: (meter, kilogram, second, ampere, mole, candela, kelvin)>)"
      ]
     },
     "execution_count": 4,
     "metadata": {},
     "output_type": "execute_result"
    }
   ],
   "source": [
    "nu = basis()\n",
    "nu"
   ]
  },
  {
   "cell_type": "code",
   "execution_count": 5,
   "metadata": {},
   "outputs": [],
   "source": [
    "from utils.ctrl import expr2sys\n",
    "\n",
    "gp_tf = expr2sys(nu.to_numeric(gp, as_expr=True), s)"
   ]
  },
  {
   "cell_type": "code",
   "execution_count": 6,
   "metadata": {},
   "outputs": [
    {
     "data": {
      "text/latex": [
       "$\\displaystyle 0.689 \\text{s}$"
      ],
      "text/plain": [
       "0.689*second"
      ]
     },
     "execution_count": 6,
     "metadata": {},
     "output_type": "execute_result"
    }
   ],
   "source": [
    "from utils.ctrl import nu_stepinfo\n",
    "\n",
    "open_loop_info = nu_stepinfo(nu, u.s, 1, m.stepinfo(gp_tf))\n",
    "dt = open_loop_info[\"SettlingTime\"]/5\n",
    "dt.n(4)"
   ]
  },
  {
   "cell_type": "code",
   "execution_count": 7,
   "metadata": {},
   "outputs": [
    {
     "data": {
      "text/latex": [
       "$\\displaystyle \\left\\{ Overshoot : 0, \\  Peak : 20.7265201213999, \\  PeakTime : 4.31734704936384 \\text{s}, \\  RiseTime : 1.91882091082837 \\text{s}, \\  SettlingMax : 20.7265201213999, \\  SettlingMin : 18.7626227011293, \\  SettlingTime : 3.44515572626003 \\text{s}, \\  SteadyStateValue : 20.8333333333333, \\  Undershoot : 0\\right\\}$"
      ],
      "text/plain": [
       "{Overshoot: 0, Peak: 20.7265201213999, PeakTime: 4.31734704936384*second, RiseTime: 1.91882091082837*second, SettlingMax: 20.7265201213999, SettlingMin: 18.7626227011293, SettlingTime: 3.44515572626003*second, SteadyStateValue: 20.8333333333333, Undershoot: 0}"
      ]
     },
     "execution_count": 7,
     "metadata": {},
     "output_type": "execute_result"
    }
   ],
   "source": [
    "from sympy import Dict\n",
    "Dict(open_loop_info)"
   ]
  },
  {
   "cell_type": "code",
   "execution_count": 8,
   "metadata": {},
   "outputs": [
    {
     "data": {
      "text/latex": [
       "$$\\frac{5.836 z^2 + 4.458 z + 0.09216}{z^3 - 0.5861 z^2 + 0.08488 z - 0.0001696}\\quad dt = 0.7472743901655688$$"
      ],
      "text/plain": [
       "TransferFunction(array([5.83645919, 4.45814548, 0.09215939]), array([ 1.00000000e+00, -5.86149949e-01,  8.48842703e-02, -1.69646715e-04]), 0.7472743901655688)"
      ]
     },
     "execution_count": 8,
     "metadata": {},
     "output_type": "execute_result"
    }
   ],
   "source": [
    "gp_dtf = m.c2d(gp_tf, nu[dt])\n",
    "gp_dtf"
   ]
  },
  {
   "cell_type": "code",
   "execution_count": 9,
   "metadata": {},
   "outputs": [],
   "source": [
    "from utils.ctrl import siso_numden\n",
    "from control import TransferFunction\n",
    "from utils.ratpolys import poly_eval\n",
    "\n",
    "def deadbeat(num, den):\n",
    "    return den, [poly_eval(num, 1)] + [-n for n in num]\n",
    "\n",
    "def deadbeat_sys(sys):\n",
    "    return TransferFunction(\n",
    "        *deadbeat(*siso_numden(sys.minreal())),\n",
    "        sys.dt)\n",
    "\n",
    "# essentially an S combinator\n",
    "def with_deadbeat(sys):\n",
    "    return sys*deadbeat_sys(sys)"
   ]
  },
  {
   "cell_type": "code",
   "execution_count": 10,
   "metadata": {},
   "outputs": [
    {
     "data": {
      "text/latex": [
       "$$\\frac{0.09628 z^3 - 0.05643 z^2 + 0.008172 z - 1.633 \\times 10^{-5}}{z^3 - 0.5619 z^2 - 0.4292 z - 0.008873}\\quad dt = 0.7472743901655688$$"
      ],
      "text/plain": [
       "TransferFunction(array([ 9.62763759e-02, -5.64323928e-02,  8.17234992e-03, -1.63329709e-05]), array([ 1.        , -0.56191314, -0.42921409, -0.00887277]), 0.7472743901655688)"
      ]
     },
     "execution_count": 10,
     "metadata": {},
     "output_type": "execute_result"
    }
   ],
   "source": [
    "gc_dtf = deadbeat_sys(gp_dtf).minreal()\n",
    "gc_dtf"
   ]
  },
  {
   "cell_type": "code",
   "execution_count": 11,
   "metadata": {},
   "outputs": [],
   "source": [
    "gcl_dtf = m.feedback(gp_dtf*gc_dtf)"
   ]
  },
  {
   "cell_type": "code",
   "execution_count": 12,
   "metadata": {},
   "outputs": [
    {
     "data": {
      "image/png": "[encoded data removed]",
      "text/plain": [
       "<Figure size 432x288 with 2 Axes>"
      ]
     },
     "metadata": {
      "needs_background": "light"
     },
     "output_type": "display_data"
    }
   ],
   "source": [
    "from utils.mpl import io_axes, nu_twinx_axes\n",
    "from utils.ctrl import step_resp\n",
    "\n",
    "fig, (ax_e, ax_r), next_color, set_gain_and_legend_loc = io_axes()\n",
    "plot_step, plot_ref = step_resp(ax_e.plot, ax_r.plot, next_color)\n",
    "\n",
    "nu_twinx_axes(\n",
    "    nu, ax_e, ax_r,\n",
    "    (\"Tiempo\", u.s),\n",
    "    (\"Excitación\", 1),\n",
    "    (\"Respuesta\", 1)\n",
    ")\n",
    "\n",
    "plot_step(gp_tf, label=\"Respuesta LA SC\")\n",
    "plot_step(gcl_dtf, label=\"Respuesta LC\")\n",
    "plot_step(m.feedback(gc_dtf, gp_dtf), label=\"Acción de control\")\n",
    "plot_step(m.feedback(1, gc_dtf*gp_dtf), label=\"Error\")\n",
    "\n",
    "plot_ref(label=\"Referencia\")\n",
    "\n",
    "ax_e.grid()\n",
    "ax_r.set_ylim(-.1, 1.5)\n",
    "set_gain_and_legend_loc(gcl_dtf.dcgain(), \"upper right\")"
   ]
  },
  {
   "cell_type": "code",
   "execution_count": 13,
   "metadata": {},
   "outputs": [],
   "source": [
    "from utils.ctrlsys import difference_eq\n",
    "\n",
    "def my_diff_eq(sys):\n",
    "    e, u = map(sp.Function, \"e u\".split(\" \"))\n",
    "    k = sp.symbols(\"k\", real=True)\n",
    "    return difference_eq(*siso_numden(sys), e, u, k)"
   ]
  },
  {
   "cell_type": "code",
   "execution_count": 14,
   "metadata": {},
   "outputs": [
    {
     "data": {
      "text/latex": [
       "$\\displaystyle u{\\left(k \\right)} = 0.09628 e{\\left(k \\right)} - 1.633 \\cdot 10^{-5} e{\\left(k - 3 \\right)} + 0.008172 e{\\left(k - 2 \\right)} - 0.05643 e{\\left(k - 1 \\right)} + 0.008873 u{\\left(k - 3 \\right)} + 0.4292 u{\\left(k - 2 \\right)} + 0.5619 u{\\left(k - 1 \\right)}$"
      ],
      "text/plain": [
       "Eq(u(k), 0.09628*e(k) - 1.633e-5*e(k - 3) + 0.008172*e(k - 2) - 0.05643*e(k - 1) + 0.008873*u(k - 3) + 0.4292*u(k - 2) + 0.5619*u(k - 1))"
      ]
     },
     "execution_count": 14,
     "metadata": {},
     "output_type": "execute_result"
    }
   ],
   "source": [
    "my_diff_eq(gc_dtf).n(4)"
   ]
  },
  {
   "cell_type": "code",
   "execution_count": 21,
   "metadata": {},
   "outputs": [],
   "source": [
    "from control import TransferFunction\n",
    "from typing import SupportsFloat\n",
    "\n",
    "def remove_above_nyquist(\n",
    "    w,\n",
    "    sys_or_dt: TransferFunction | SupportsFloat\n",
    ")-> np.ndarray:\n",
    "    w = np.asanyarray(w)\n",
    "    dt = sys_or_dt.dt if (\n",
    "        isinstance(sys_or_dt, TransferFunction)) else sys_or_dt\n",
    "    return w[np.where(w<(1/dt)*np.pi)]"
   ]
  },
  {
   "cell_type": "code",
   "execution_count": 22,
   "metadata": {},
   "outputs": [
    {
     "data": {
      "image/png": "[encoded data removed]",
      "text/plain": [
       "<Figure size 432x288 with 2 Axes>"
      ]
     },
     "metadata": {
      "needs_background": "light"
     },
     "output_type": "display_data"
    }
   ],
   "source": [
    "from utils.mpl import nu_sharex_axes\n",
    "from utils.ctrl import bode_axes\n",
    "from functools import partial\n",
    "\n",
    "fig, (ax_gain, ax_phase), add_bode_, add_deg_locator = bode_axes()\n",
    "\n",
    "add_bode = partial(add_bode_, deg=False, dB=True)\n",
    "\n",
    "w = np.geomspace(10**-1, 10**2, num=1000)*nu[u.rad/u.s]\n",
    "w_dtf = remove_above_nyquist(w, gcl_dtf)\n",
    "add_bode(m.feedback(gp_tf), label=\"Planta a LC SC\", omega=w)\n",
    "add_bode(gcl_dtf, label=\"Planta a LC\", omega=w_dtf)\n",
    "\n",
    "add_deg_locator(90)\n",
    "\n",
    "nu_sharex_axes(nu, ax_phase, ax_gain,\n",
    "    (\"Frecuencia\", u.rad/u.s),\n",
    "    (\"Cambio de fase\", u.deg),\n",
    "    (\"Ganancia\", 1),\n",
    "    y2_in_db=True)\n",
    "\n",
    "ax_gain.grid(which='both')\n",
    "ax_phase.grid(which='both')\n",
    "\n",
    "ax_phase.legend(); None"
   ]
  },
  {
   "cell_type": "code",
   "execution_count": 16,
   "metadata": {},
   "outputs": [
    {
     "name": "stderr",
     "output_type": "stream",
     "text": [
      "/home/fakui/.local/lib/python3.10/site-packages/control/lti.py:199: UserWarning: __call__: evaluation above Nyquist frequency\n",
      "  warn(\"__call__: evaluation above Nyquist frequency\")\n"
     ]
    },
    {
     "data": {
      "image/png": "[encoded data removed]",
      "text/plain": [
       "<Figure size 432x288 with 2 Axes>"
      ]
     },
     "metadata": {
      "needs_background": "light"
     },
     "output_type": "display_data"
    }
   ],
   "source": [
    "from utils.mpl import nu_sharex_axes\n",
    "from utils.ctrl import bode_axes\n",
    "from functools import partial\n",
    "\n",
    "fig, (ax_gain, ax_phase), add_bode_, add_deg_locator = bode_axes()\n",
    "\n",
    "add_bode = partial(add_bode_, deg=False, dB=True)\n",
    "\n",
    "add_bode(gc_dtf*gp_dtf, label=\"Planta a LA con controlador\")\n",
    "\n",
    "add_deg_locator(90)\n",
    "\n",
    "nu_sharex_axes(nu, ax_phase, ax_gain,\n",
    "    (\"Frecuencia\", u.rad/u.s),\n",
    "    (\"Cambio de fase\", u.deg),\n",
    "    (\"Ganancia\", 1),\n",
    "    y2_in_db=True)\n",
    "\n",
    "ax_gain.grid(which='both')\n",
    "ax_phase.grid(which='both')\n",
    "\n",
    "ax_phase.legend(); None"
   ]
  }
 ],
 "metadata": {
  "interpreter": {
   "hash": "f9f85f796d01129d0dd105a088854619f454435301f6ffec2fea96ecbd9be4ac"
  },
  "kernelspec": {
   "display_name": "Python 3.9.7 64-bit",
   "name": "python3"
  },
  "language_info": {
   "codemirror_mode": {
    "name": "ipython",
    "version": 3
   },
   "file_extension": ".py",
   "mimetype": "text/x-python",
   "name": "python",
   "nbconvert_exporter": "python",
   "pygments_lexer": "ipython3",
   "version": "3.10.0"
  },
  "orig_nbformat": 4
 },
 "nbformat": 4,
 "nbformat_minor": 2
}
