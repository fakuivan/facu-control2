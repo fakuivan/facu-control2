{
 "cells": [
  {
   "cell_type": "code",
   "execution_count": 11,
   "source": [
    "from sympy.abc import s\n",
    "from utils.units import u\n",
    "\n",
    "gp = 50/((s*u.s)*(0.85*(s*u.s)+1))\n",
    "gc = 0.031*((s*u.s)+1.808)"
   ],
   "outputs": [],
   "metadata": {}
  },
  {
   "cell_type": "code",
   "execution_count": 12,
   "source": [
    "from pathlib import Path\n",
    "\n",
    "out_dir = Path(\"./out\") / \"parcial1\" / \"p1\""
   ],
   "outputs": [],
   "metadata": {}
  },
  {
   "cell_type": "code",
   "execution_count": 13,
   "source": [
    "from utils.units import basis\n",
    "\n",
    "nu = basis()"
   ],
   "outputs": [],
   "metadata": {}
  },
  {
   "cell_type": "code",
   "execution_count": 14,
   "source": [
    "from utils.ctrlsys import s2tf\n",
    "from control import matlab as m\n",
    "to_tf = s2tf$(?, s) .. nu.to_numeric$(as_expr=True)\n",
    "\n",
    "gp_tf = to_tf(gp)\n",
    "gc_tf = to_tf(gc)\n",
    "gcl_tf = m.feedback(gp_tf*gc_tf, 1)"
   ],
   "outputs": [],
   "metadata": {}
  },
  {
   "cell_type": "code",
   "execution_count": 15,
   "source": [
    "from utils.ctrl import nu_stepinfo\n",
    "from utils.misc import valmap, repr_aligned\n",
    "\n",
    "step_info = nu_stepinfo(nu, u.s, 1, m.stepinfo(gcl_tf))\n",
    "valmap(.n(4), step_info) |> repr_aligned |> print"
   ],
   "outputs": [
    {
     "output_type": "stream",
     "name": "stdout",
     "text": [
      "{\n",
      "    'RiseTime':         0.7908*second,\n",
      "    'SettlingTime':     2.651*second,\n",
      "    'SettlingMin':      0.9018,\n",
      "    'SettlingMax':      1.038,\n",
      "    'Overshoot':        3.849*percent,\n",
      "    'Undershoot':       0,\n",
      "    'Peak':             1.038,\n",
      "    'PeakTime':         1.814*second,\n",
      "    'SteadyStateValue': 1.000,\n",
      "}\n"
     ]
    }
   ],
   "metadata": {}
  },
  {
   "cell_type": "code",
   "execution_count": 16,
   "source": [
    "from sympy.abc import z\n",
    "from utils.units.sympy_helpers import without_units\n",
    "from utils.ratpolys import ratpoly_zpk_form as zpk_form\n",
    "\n",
    "dt = step_info[\"RiseTime\"]/10\n",
    "s_dtf = (z-1)/(z*dt)\n",
    "s_dtf\n",
    "gc_d = without_units(gc,\n",
    "    (get_dummy, expr) -> (expr.subs(s, s_dtf).simplify()))\n",
    "\n",
    "zpk_form(gc_d, z)"
   ],
   "outputs": [
    {
     "output_type": "execute_result",
     "data": {
      "text/latex": [
       "$\\displaystyle 0.448062636753259 \\frac{z - 0.874910346450367}{z}$"
      ],
      "text/plain": [
       "0.448062636753259*((z - 0.874910346450367)/z)"
      ]
     },
     "metadata": {},
     "execution_count": 16
    }
   ],
   "metadata": {}
  },
  {
   "cell_type": "code",
   "execution_count": 17,
   "source": [
    "from sympy import lambdify\n",
    "\n",
    "gc_dtf = lambdify([z], gc_d)(m.tf('z'))\n",
    "gp_dtf = m.c2d(gp_tf, nu[dt], 'zoh')\n",
    "gcl_dtf = m.feedback(gp_dtf*gc_dtf)"
   ],
   "outputs": [],
   "metadata": {}
  },
  {
   "cell_type": "code",
   "execution_count": 21,
   "source": [
    "from utils.ctrlsys import step, zoh_stairs\n",
    "from utils.mpl import io_axes, nu_twinx_axes\n",
    "import numpy as np\n",
    "\n",
    "fig, (ax_e, ax_r), next_color, set_gain_and_legend_loc = io_axes()\n",
    "\n",
    "t, (ref, resp) = step(reversed .. m.step$(gcl_tf))\n",
    "td = np.arange(min(t), max(t), gcl_dtf.dt)\n",
    "_, (_, resp_d) = step(reversed .. m.step$(gcl_dtf), t=td)\n",
    "\n",
    "set_time_title, set_e_title, set_r_title = nu_twinx_axes(\n",
    "    nu, ax_e, ax_r, u.s, 1, 1\n",
    ")\n",
    "ax_e.plot(t, ref, color=next_color(), label=\"Referencia\")\n",
    "ax_r.plot(t, resp, color=next_color(), label=\"Respuesta LC en tiempo continuo\")\n",
    "ax_r.plot(*zoh_stairs(td, resp_d), color=next_color(), label=\"Respuesta LC discretizada\")\n",
    "\n",
    "set_time_title(\"Tiempo\")\n",
    "set_e_title(\"Excitación\")\n",
    "set_r_title(\"Respuesta\")\n",
    "ax_e.grid()\n",
    "set_gain_and_legend_loc(gcl_tf.dcgain(), \"lower right\")\n",
    "\n",
    "fig.savefig(out_dir / \"resp_parte1.svg\")"
   ],
   "outputs": [
    {
     "output_type": "display_data",
     "data": {
      "image/png": "[encoded data removed]",
      "text/plain": [
       "<Figure size 432x288 with 2 Axes>"
      ]
     },
     "metadata": {
      "needs_background": "light"
     }
    }
   ],
   "metadata": {}
  },
  {
   "cell_type": "code",
   "execution_count": 9,
   "source": [
    "from utils.misc import valmap, repr_aligned\n",
    "\n",
    "my_stepinfo = nu_stepinfo$(nu, u.s, 1) .. m.stepinfo\n",
    "\n",
    "my_stepinfo(gcl_dtf) |> valmap$(.n(4)) |> repr_aligned |> print"
   ],
   "outputs": [
    {
     "output_type": "stream",
     "name": "stdout",
     "text": [
      "{\n",
      "    'RiseTime':         0.6326*second,\n",
      "    'SettlingTime':     2.451*second,\n",
      "    'SettlingMin':      0.9160,\n",
      "    'SettlingMax':      1.046,\n",
      "    'Overshoot':        4.582*percent,\n",
      "    'Undershoot':       0,\n",
      "    'Peak':             1.046,\n",
      "    'PeakTime':         1.582*second,\n",
      "    'SteadyStateValue': 1.000,\n",
      "}\n"
     ]
    }
   ],
   "metadata": {}
  },
  {
   "cell_type": "code",
   "execution_count": 10,
   "source": [
    "import sympy as sp\n",
    "from utils.ctrl import siso_numden\n",
    "\n",
    "e, u_ = map(sp.Function, [\"e\", \"u\"])\n",
    "k = sp.Symbol(\"k\")\n",
    "\n",
    "def recursive_eq(num, den, in_, out, k):\n",
    "    den_offset = len(num)-len(den)\n",
    "    a0, *den_tail = den\n",
    "    sum_in = sum(a*in_(k-i+den_offset) for i, a in enumerate(num))\n",
    "    sum_out = sum(a*out(k-i-1) for i, a in enumerate(den_tail))\n",
    "    return sp.Eq(out(k), (sum_in-sum_out)/a0)\n",
    "    \n",
    "num, den = siso_numden(gc_dtf)\n",
    "recursive_eq(num, den, e, u_, k).n(4)"
   ],
   "outputs": [
    {
     "output_type": "execute_result",
     "data": {
      "text/latex": [
       "$\\displaystyle u{\\left(k \\right)} = 0.4481 e{\\left(k \\right)} - 0.392 e{\\left(k - 1 \\right)}$"
      ],
      "text/plain": [
       "Eq(u(k), 0.4481*e(k) - 0.392*e(k - 1))"
      ]
     },
     "metadata": {},
     "execution_count": 10
    }
   ],
   "metadata": {}
  },
  {
   "cell_type": "code",
   "execution_count": 11,
   "source": [
    "from utils.ctrlsys import step, zoh_stairs\n",
    "from utils.mpl import io_axes, nu_twinx_axes\n",
    "import numpy as np\n",
    "\n",
    "fig, (ax_e, ax_r), next_color, set_gain_and_legend_loc = io_axes()\n",
    "\n",
    "td = np.arange(0, nu[4*u.s], gcl_dtf.dt)\n",
    "_, (ref, resp_d) = step(reversed .. m.step$(gcl_dtf), t=td)\n",
    "_, (ref, ctrl_d) = step(reversed .. m.step$(m.feedback(gc_dtf, gp_dtf)), t=td)\n",
    "\n",
    "set_time_title, set_e_title, set_r_title = nu_twinx_axes(\n",
    "    nu, ax_e, ax_r, u.s, 1, 1\n",
    ")\n",
    "ax_e.plot(td, ref, color=next_color(), label=\"Referencia\")\n",
    "ax_r.plot(*zoh_stairs(td, resp_d), color=next_color(), label=\"Respuesta\")\n",
    "ax_r.plot(*zoh_stairs(td, ref-resp_d), color=next_color(), label=\"Error\")\n",
    "ax_r.plot(*zoh_stairs(td, ctrl_d), color=next_color(), label=\"Acción de control\")\n",
    "\n",
    "set_time_title(\"Tiempo\")\n",
    "set_e_title(\"Excitación\")\n",
    "set_r_title(\"Respuesta\")\n",
    "ax_e.grid()\n",
    "set_gain_and_legend_loc(gcl_tf.dcgain(), \"lower right\")\n",
    "\n",
    "fig.savefig(out_dir / \"resp_parte1_signals.svg\")"
   ],
   "outputs": [
    {
     "output_type": "display_data",
     "data": {
      "image/png": "[encoded data removed]",
      "text/plain": [
       "<Figure size 432x288 with 2 Axes>"
      ]
     },
     "metadata": {
      "needs_background": "light"
     }
    }
   ],
   "metadata": {}
  },
  {
   "cell_type": "code",
   "execution_count": 12,
   "source": [
    "gzohinv = 2*z/(z+1)\n",
    "gzohinv_dtf = lambdify([z], gzohinv)(m.tf(\"z\"))\n",
    "gzohinv_dtf\n",
    "\n",
    "gclc_dtf = m.feedback(gzohinv_dtf * gc_dtf * gp_dtf)\n",
    "gclc_dtf"
   ],
   "outputs": [
    {
     "output_type": "execute_result",
     "data": {
      "text/latex": [
       "$$\\frac{0.1598 z^3 + 0.01511 z^2 - 0.1356 z}{z^4 - 0.7513 z^3 - 0.9849 z^2 + 0.7756 z}\\quad dt = 0.0010690229794598385$$"
      ],
      "text/plain": [
       "TransferFunction(array([ 0.15982496,  0.01511245, -0.13556295,  0.        ]), array([ 1.        , -0.7513378 , -0.98488755,  0.77559981,  0.        ]), 0.0010690229794598385)"
      ]
     },
     "metadata": {},
     "execution_count": 12
    }
   ],
   "metadata": {}
  },
  {
   "cell_type": "code",
   "execution_count": 13,
   "source": [
    "from utils.ctrlsys import step, zoh_stairs\n",
    "from utils.mpl import io_axes, nu_twinx_axes\n",
    "import numpy as np\n",
    "\n",
    "fig, (ax_e, ax_r), next_color, set_gain_and_legend_loc = io_axes()\n",
    "\n",
    "t, (ref, resp) = step(reversed .. m.step$(gcl_tf))\n",
    "td = np.arange(min(t), max(t), gcl_dtf.dt)\n",
    "#_, (_, resp_d) = step(reversed .. m.step$(gcl_dtf), t=td)\n",
    "_, (_, resp_d) = step(reversed .. m.step$(gclc_dtf), t=td)\n",
    "\n",
    "set_time_title, set_e_title, set_r_title = nu_twinx_axes(\n",
    "    nu, ax_e, ax_r, u.s, 1, 1\n",
    ")\n",
    "ax_e.plot(t, ref, color=next_color(), label=\"Referencia\")\n",
    "ax_r.plot(t, resp, color=next_color(), label=\"Respuesta LC en tiempo continuo\")\n",
    "ax_r.plot(*zoh_stairs(td, resp_d), color=next_color(), label=\"Respuesta LC con compensación ZOH\")\n",
    "\n",
    "set_time_title(\"Tiempo\")\n",
    "set_e_title(\"Excitación\")\n",
    "set_r_title(\"Respuesta\")\n",
    "ax_e.grid()\n",
    "set_gain_and_legend_loc(gcl_tf.dcgain(), \"lower right\")\n",
    "\n",
    "fig.savefig(out_dir / \"resp_parte1_compensado.svg\")"
   ],
   "outputs": [
    {
     "output_type": "display_data",
     "data": {
      "image/png": "[encoded data removed]",
      "text/plain": [
       "<Figure size 432x288 with 2 Axes>"
      ]
     },
     "metadata": {
      "needs_background": "light"
     }
    }
   ],
   "metadata": {}
  },
  {
   "cell_type": "code",
   "execution_count": 14,
   "source": [
    "from utils.mpl import set_datalim, nu_sharex_axes\n",
    "from utils.ctrl import bode_axes\n",
    "\n",
    "fig, (ax_gain, ax_phase), add_bode_, add_deg_locator = bode_axes()\n",
    "\n",
    "add_bode = add_bode_$(deg=False, dB=True)\n",
    "\n",
    "_, _, w = add_bode(gclc_dtf, label=\"Sistema con compensación ZOH\")\n",
    "add_bode(gcl_dtf, label=\"Sistema discretizado\", omega=w)\n",
    "add_bode(gcl_tf, label=\"Sistema en tiempo continuo\", omega=w)\n",
    "\n",
    "add_deg_locator(90)\n",
    "\n",
    "nu_sharex_axes(nu, ax_phase, ax_gain,\n",
    "    (\"Frecuencia\", u.rad/u.s),\n",
    "    (\"Cambio de fase\", u.deg),\n",
    "    (\"Ganancia\", 1),\n",
    "    y2_in_db=True)\n",
    "\n",
    "ax_gain.grid(which='both')\n",
    "ax_phase.grid(which='both')\n",
    "set_datalim(ax_phase, y=(-nu[360*u.deg], 0))\n",
    "\n",
    "ax_phase.legend(); None\n",
    "\n",
    "fig.savefig(out_dir / \"resp_parte1_compensado_bode.svg\")"
   ],
   "outputs": [
    {
     "output_type": "display_data",
     "data": {
      "image/png": "[encoded data removed]",
      "text/plain": [
       "<Figure size 432x288 with 2 Axes>"
      ]
     },
     "metadata": {
      "needs_background": "light"
     }
    }
   ],
   "metadata": {}
  },
  {
   "cell_type": "code",
   "execution_count": 15,
   "source": [
    "from sympy import symbols\n",
    "kc, a = symbols(\"K_c a\", real=True, positive=True)\n",
    "gcd = kc*(z-a)/z\n",
    "\n",
    "ts = 3*u.s\n",
    "mp = 5*u.percent"
   ],
   "outputs": [],
   "metadata": {}
  },
  {
   "cell_type": "code",
   "execution_count": 16,
   "source": [
    "from utils.ctrlsys import pole_specs\n",
    "\n",
    "_, dp_s = pole_specs(nu[ts], nu[mp])\n",
    "nu.to_symb(u.Hz, dp_s).n(4)"
   ],
   "outputs": [
    {
     "output_type": "execute_result",
     "data": {
      "text/latex": [
       "$\\displaystyle \\left(-1.304 + 1.367 i\\right) \\text{Hz}$"
      ],
      "text/plain": [
       "hertz*(-1.304 + 1.367*I)"
      ]
     },
     "metadata": {},
     "execution_count": 16
    }
   ],
   "metadata": {}
  },
  {
   "cell_type": "code",
   "execution_count": 17,
   "source": [
    "from utils.ctrlsys import z_map\n",
    "dp = z_map(dp_s, nu[gp_dtf.dt])\n",
    "sp.sympify(dp).n(4)"
   ],
   "outputs": [
    {
     "output_type": "execute_result",
     "data": {
      "text/latex": [
       "$\\displaystyle 0.8968 + 0.09735 i$"
      ],
      "text/plain": [
       "0.8968 + 0.09735*I"
      ]
     },
     "metadata": {},
     "execution_count": 17
    }
   ],
   "metadata": {}
  },
  {
   "cell_type": "code",
   "execution_count": 18,
   "source": [
    "gdelay_dtf = 1/m.tf(\"z\")\n",
    "\n",
    "gls = {\n",
    "    \"atraso del muestreador\": gdelay_dtf,\n",
    "    \"planta\": gp_dtf\n",
    "}"
   ],
   "outputs": [],
   "metadata": {}
  },
  {
   "cell_type": "code",
   "execution_count": 19,
   "source": [
    "from IPython.display import display\n",
    "\n",
    "def side_effect(f, value):\n",
    "    f(value)\n",
    "    return value\n",
    "\n",
    "pprint = side_effect$(display)"
   ],
   "outputs": [],
   "metadata": {}
  },
  {
   "cell_type": "code",
   "execution_count": 20,
   "source": [
    "from itertools import starmap\n",
    "from utils.ratpolys import numden2ratpoly\n",
    "\n",
    "def rlocus_cond(dp, z, ratpoly):\n",
    "    return ratpoly.subs(z, dp)+1\n",
    "\n",
    "gpd = numden2ratpoly$(*siso_numden(gp_dtf))(z)"
   ],
   "outputs": [],
   "metadata": {}
  },
  {
   "cell_type": "code",
   "execution_count": 21,
   "source": [
    "from utils.math import sp_reim\n",
    "kc_, a_ = sp.nsolve(\n",
    "    sp_reim(rlocus_cond(dp, z, gcd*gpd*1/z)),\n",
    "    [kc, a], [1, .5]) |> map$(float)\n",
    "\n",
    "kc_, a_"
   ],
   "outputs": [
    {
     "output_type": "execute_result",
     "data": {
      "text/plain": [
       "(0.31611680268188946, 0.85033543051807)"
      ]
     },
     "metadata": {},
     "execution_count": 21
    }
   ],
   "metadata": {}
  },
  {
   "cell_type": "code",
   "execution_count": 23,
   "source": [
    "from utils.ctrlsys import autotune\n",
    "\n",
    "kc_, a_ = pprint(\n",
    "    autotune(\n",
    "        {kc: kc_, a: a_},\n",
    "        z, m.tf(\"z\"),\n",
    "        gcd,\n",
    "        nu[mp]*.95, nu[ts]*.95,\n",
    "        gp_dtf*gdelay_dtf, 1, iter=10)\n",
    ")"
   ],
   "outputs": [
    {
     "output_type": "display_data",
     "data": {
      "text/plain": [
       "array([0.33650607, 0.88049715])"
      ]
     },
     "metadata": {}
    }
   ],
   "metadata": {}
  },
  {
   "cell_type": "code",
   "execution_count": 24,
   "source": [
    "tftot = (gcd*gpd*1/z).subs(kc, kc_).subs(a, a_)"
   ],
   "outputs": [],
   "metadata": {}
  },
  {
   "cell_type": "code",
   "execution_count": 25,
   "source": [
    "gcd_dtf = lambdify([z], gcd.subs(a, a_).subs(kc, kc_))(m.tf('z'))\n",
    "gcd_dtf\n",
    "\n",
    "gcld_dtf = m.feedback(reduce((*), gls.values()) * gcd_dtf)"
   ],
   "outputs": [],
   "metadata": {}
  },
  {
   "cell_type": "code",
   "execution_count": 26,
   "source": [
    "from utils.ctrlsys import step, zoh_stairs\n",
    "from utils.mpl import io_axes, nu_twinx_axes\n",
    "import numpy as np\n",
    "\n",
    "fig, (ax_e, ax_r), next_color, set_gain_and_legend_loc = io_axes()\n",
    "\n",
    "t, (ref, resp) = step(reversed .. m.step$(gcl_tf))\n",
    "td = np.arange(min(t), max(t), gcl_dtf.dt)\n",
    "#_, (_, resp_d) = step(reversed .. m.step$(gcl_dtf), t=td)\n",
    "_, (_, resp_d) = step(reversed .. m.step$(gcld_dtf), t=td)\n",
    "\n",
    "set_time_title, set_e_title, set_r_title = nu_twinx_axes(\n",
    "    nu, ax_e, ax_r, u.s, 1, 1\n",
    ")\n",
    "ax_e.plot(t, ref, color=next_color(), label=\"Referencia\")\n",
    "ax_r.plot(t, resp, color=next_color(), label=\"Respuesta LC en tiempo continuo\")\n",
    "ax_r.plot(*zoh_stairs(td, resp_d), color=next_color(), label=\"Respuesta LC con diseño en Z\")\n",
    "\n",
    "set_time_title(\"Tiempo\")\n",
    "set_e_title(\"Excitación\")\n",
    "set_r_title(\"Respuesta\")\n",
    "ax_e.grid()\n",
    "set_gain_and_legend_loc(gcl_tf.dcgain(), \"lower right\")\n",
    "\n",
    "fig.savefig(out_dir / \"resp_parte1_zd.svg\")"
   ],
   "outputs": [
    {
     "output_type": "display_data",
     "data": {
      "image/png": "[encoded data removed]",
      "text/plain": [
       "<Figure size 432x288 with 2 Axes>"
      ]
     },
     "metadata": {
      "needs_background": "light"
     }
    }
   ],
   "metadata": {}
  },
  {
   "cell_type": "code",
   "execution_count": 29,
   "source": [
    "my_stepinfo(gcld_dtf\n",
    "    ) |> valmap$(.n(4)) |> repr_aligned |> print"
   ],
   "outputs": [
    {
     "output_type": "stream",
     "name": "stdout",
     "text": [
      "{\n",
      "    'RiseTime':         0.7908*second,\n",
      "    'SettlingTime':     2.926*second,\n",
      "    'SettlingMin':      0.9271,\n",
      "    'SettlingMax':      1.048,\n",
      "    'Overshoot':        4.75*percent,\n",
      "    'Undershoot':       0,\n",
      "    'Peak':             1.048,\n",
      "    'PeakTime':         1.898*second,\n",
      "    'SteadyStateValue': 1.000,\n",
      "}\n"
     ]
    }
   ],
   "metadata": {}
  },
  {
   "cell_type": "code",
   "execution_count": 28,
   "source": [
    "from utils.ctrl import sys_deu\n",
    "\n",
    "sys_deu(gcld_dtf, nu, 1, 1)"
   ],
   "outputs": [
    {
     "output_type": "execute_result",
     "data": {
      "text/latex": [
       "$$\\frac{0.06002 z^2 + 0.00534 z - 0.05123}{z^4 - 1.911 z^3 + 0.9712 z^2 + 0.00534 z - 0.05123}\\quad dt = 0.07907867996141164$$"
      ],
      "text/plain": [
       "TransferFunction(array([ 0.06001624,  0.00533961, -0.05123062]), array([ 1.        , -1.91116276,  0.971179  ,  0.00533961, -0.05123062]), 0.07907867996141164)"
      ]
     },
     "metadata": {},
     "execution_count": 28
    }
   ],
   "metadata": {}
  }
 ],
 "metadata": {
  "orig_nbformat": 4,
  "language_info": {
   "name": "coconut",
   "version": "1.5.0",
   "mimetype": "text/x-python3",
   "codemirror_mode": {
    "name": "python",
    "version": 3
   },
   "pygments_lexer": "coconut",
   "file_extension": ".coco"
  },
  "kernelspec": {
   "name": "coconut",
   "display_name": "Coconut",
   "language": "coconut"
  }
 },
 "nbformat": 4,
 "nbformat_minor": 2
}